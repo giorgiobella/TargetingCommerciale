{
 "cells": [
  {
   "cell_type": "markdown",
   "metadata": {},
   "source": [
    "# TechLab Big Data - Direct Marketing"
   ]
  },
  {
   "cell_type": "markdown",
   "metadata": {},
   "source": [
    "### Import delle librerie"
   ]
  },
  {
   "cell_type": "markdown",
   "metadata": {},
   "source": [
    "Come prima cosa importiamo le librerie e i moduli che saranno necessari per l'implementazione del caso di studio. \n",
    "\n",
    "Le librerie di interesse sono: \n",
    "\n",
    "- Pandas: per la manipolazione di dati in formato sequenziale o tabellare;\n",
    "- Matplot e Seaborn: per la generazione di grafici; \n",
    "- Scikit-learn: per i modelli di Machine Learning."
   ]
  },
  {
   "cell_type": "code",
   "execution_count": 17,
   "metadata": {},
   "outputs": [],
   "source": [
    "import numpy  as np\n",
    "import pandas as pd\n",
    "import matplotlib.pyplot as plt\n",
    "import seaborn as sns\n",
    "import warnings\n",
    "import pickle\n",
    "warnings.filterwarnings('ignore')\n",
    "from inspect import signature\n",
    "%matplotlib inline\n",
    "\n",
    "from sklearn.preprocessing     import StandardScaler, LabelEncoder\n",
    "from sklearn.model_selection   import KFold, train_test_split, cross_val_score\n",
    "from sklearn                   import metrics\n",
    "from sklearn.ensemble          import GradientBoostingClassifier, RandomForestClassifier, VotingClassifier\n",
    "from sklearn.svm               import SVC\n",
    "from sklearn.feature_selection import RFE, VarianceThreshold\n",
    "from sklearn.metrics           import classification_report, precision_score, recall_score, f1_score, confusion_matrix, accuracy_score\n",
    "from sklearn                   import tree\n",
    "from sklearn.utils             import resample\n",
    "from sklearn.linear_model      import LogisticRegression\n",
    "from inspect                   import signature"
   ]
  },
  {
   "cell_type": "markdown",
   "metadata": {},
   "source": [
    "Importiamo il dataset e mostriamo le prime osservazioni per capire com'è strutturato."
   ]
  },
  {
   "cell_type": "code",
   "execution_count": 18,
   "metadata": {},
   "outputs": [
    {
     "data": {
      "text/html": [
       "<div>\n",
       "<style scoped>\n",
       "    .dataframe tbody tr th:only-of-type {\n",
       "        vertical-align: middle;\n",
       "    }\n",
       "\n",
       "    .dataframe tbody tr th {\n",
       "        vertical-align: top;\n",
       "    }\n",
       "\n",
       "    .dataframe thead th {\n",
       "        text-align: right;\n",
       "    }\n",
       "</style>\n",
       "<table border=\"1\" class=\"dataframe\">\n",
       "  <thead>\n",
       "    <tr style=\"text-align: right;\">\n",
       "      <th></th>\n",
       "      <th>eta</th>\n",
       "      <th>professione</th>\n",
       "      <th>stato_civile</th>\n",
       "      <th>istruzione</th>\n",
       "      <th>default</th>\n",
       "      <th>prestito_casa</th>\n",
       "      <th>prestito_personale</th>\n",
       "      <th>mese</th>\n",
       "      <th>giorno_settimana</th>\n",
       "      <th>campagne</th>\n",
       "      <th>giorni_p</th>\n",
       "      <th>precedente</th>\n",
       "      <th>outcome_p</th>\n",
       "      <th>emp.var.rate</th>\n",
       "      <th>cons.price.idx</th>\n",
       "      <th>cons.conf.idx</th>\n",
       "      <th>euribor3m</th>\n",
       "      <th>nr.employed</th>\n",
       "      <th>y</th>\n",
       "    </tr>\n",
       "  </thead>\n",
       "  <tbody>\n",
       "    <tr>\n",
       "      <th>0</th>\n",
       "      <td>56</td>\n",
       "      <td>housemaid</td>\n",
       "      <td>married</td>\n",
       "      <td>basic.4y</td>\n",
       "      <td>no</td>\n",
       "      <td>no</td>\n",
       "      <td>no</td>\n",
       "      <td>may</td>\n",
       "      <td>mon</td>\n",
       "      <td>1</td>\n",
       "      <td>999</td>\n",
       "      <td>0</td>\n",
       "      <td>nonexistent</td>\n",
       "      <td>1.1</td>\n",
       "      <td>93.994</td>\n",
       "      <td>-36.4</td>\n",
       "      <td>4.857</td>\n",
       "      <td>5191.0</td>\n",
       "      <td>no</td>\n",
       "    </tr>\n",
       "    <tr>\n",
       "      <th>1</th>\n",
       "      <td>57</td>\n",
       "      <td>services</td>\n",
       "      <td>married</td>\n",
       "      <td>high.school</td>\n",
       "      <td>unknown</td>\n",
       "      <td>no</td>\n",
       "      <td>no</td>\n",
       "      <td>may</td>\n",
       "      <td>mon</td>\n",
       "      <td>1</td>\n",
       "      <td>999</td>\n",
       "      <td>0</td>\n",
       "      <td>nonexistent</td>\n",
       "      <td>1.1</td>\n",
       "      <td>93.994</td>\n",
       "      <td>-36.4</td>\n",
       "      <td>4.857</td>\n",
       "      <td>5191.0</td>\n",
       "      <td>no</td>\n",
       "    </tr>\n",
       "    <tr>\n",
       "      <th>2</th>\n",
       "      <td>37</td>\n",
       "      <td>services</td>\n",
       "      <td>married</td>\n",
       "      <td>high.school</td>\n",
       "      <td>no</td>\n",
       "      <td>yes</td>\n",
       "      <td>no</td>\n",
       "      <td>may</td>\n",
       "      <td>mon</td>\n",
       "      <td>1</td>\n",
       "      <td>999</td>\n",
       "      <td>0</td>\n",
       "      <td>nonexistent</td>\n",
       "      <td>1.1</td>\n",
       "      <td>93.994</td>\n",
       "      <td>-36.4</td>\n",
       "      <td>4.857</td>\n",
       "      <td>5191.0</td>\n",
       "      <td>no</td>\n",
       "    </tr>\n",
       "    <tr>\n",
       "      <th>3</th>\n",
       "      <td>40</td>\n",
       "      <td>admin.</td>\n",
       "      <td>married</td>\n",
       "      <td>basic.6y</td>\n",
       "      <td>no</td>\n",
       "      <td>no</td>\n",
       "      <td>no</td>\n",
       "      <td>may</td>\n",
       "      <td>mon</td>\n",
       "      <td>1</td>\n",
       "      <td>999</td>\n",
       "      <td>0</td>\n",
       "      <td>nonexistent</td>\n",
       "      <td>1.1</td>\n",
       "      <td>93.994</td>\n",
       "      <td>-36.4</td>\n",
       "      <td>4.857</td>\n",
       "      <td>5191.0</td>\n",
       "      <td>no</td>\n",
       "    </tr>\n",
       "    <tr>\n",
       "      <th>4</th>\n",
       "      <td>56</td>\n",
       "      <td>services</td>\n",
       "      <td>married</td>\n",
       "      <td>high.school</td>\n",
       "      <td>no</td>\n",
       "      <td>no</td>\n",
       "      <td>yes</td>\n",
       "      <td>may</td>\n",
       "      <td>mon</td>\n",
       "      <td>1</td>\n",
       "      <td>999</td>\n",
       "      <td>0</td>\n",
       "      <td>nonexistent</td>\n",
       "      <td>1.1</td>\n",
       "      <td>93.994</td>\n",
       "      <td>-36.4</td>\n",
       "      <td>4.857</td>\n",
       "      <td>5191.0</td>\n",
       "      <td>no</td>\n",
       "    </tr>\n",
       "  </tbody>\n",
       "</table>\n",
       "</div>"
      ],
      "text/plain": [
       "   eta professione stato_civile   istruzione  default prestito_casa  \\\n",
       "0   56   housemaid      married     basic.4y       no            no   \n",
       "1   57    services      married  high.school  unknown            no   \n",
       "2   37    services      married  high.school       no           yes   \n",
       "3   40      admin.      married     basic.6y       no            no   \n",
       "4   56    services      married  high.school       no            no   \n",
       "\n",
       "  prestito_personale mese giorno_settimana  campagne  giorni_p  precedente  \\\n",
       "0                 no  may              mon         1       999           0   \n",
       "1                 no  may              mon         1       999           0   \n",
       "2                 no  may              mon         1       999           0   \n",
       "3                 no  may              mon         1       999           0   \n",
       "4                yes  may              mon         1       999           0   \n",
       "\n",
       "     outcome_p  emp.var.rate  cons.price.idx  cons.conf.idx  euribor3m  \\\n",
       "0  nonexistent           1.1          93.994          -36.4      4.857   \n",
       "1  nonexistent           1.1          93.994          -36.4      4.857   \n",
       "2  nonexistent           1.1          93.994          -36.4      4.857   \n",
       "3  nonexistent           1.1          93.994          -36.4      4.857   \n",
       "4  nonexistent           1.1          93.994          -36.4      4.857   \n",
       "\n",
       "   nr.employed   y  \n",
       "0       5191.0  no  \n",
       "1       5191.0  no  \n",
       "2       5191.0  no  \n",
       "3       5191.0  no  \n",
       "4       5191.0  no  "
      ]
     },
     "execution_count": 18,
     "metadata": {},
     "output_type": "execute_result"
    }
   ],
   "source": [
    "bank = pd.read_csv('Data/campagna-target.csv', sep = ';')\n",
    "bank.head()"
   ]
  },
  {
   "cell_type": "markdown",
   "metadata": {},
   "source": [
    "Importiamo le variabili di interesse dai precedenti notebook"
   ]
  },
  {
   "cell_type": "code",
   "execution_count": 19,
   "metadata": {},
   "outputs": [],
   "source": [
    "with open(\"Data/X_train.pickle\",\"rb\") as f:\n",
    "            X_train1 = pickle.load(f)\n",
    "with open(\"Data/y_train.pickle\",\"rb\") as d:\n",
    "            y_train1 = pickle.load(d)\n",
    "with open(\"Data/X_test.pickle\",\"rb\") as g:\n",
    "            X_test1 = pickle.load(g)\n",
    "with open(\"Data/y_test.pickle\",\"rb\") as h:\n",
    "            y_test1 = pickle.load(h)\n",
    "with open(\"Data/k_fold.pickle\",\"rb\") as j:\n",
    "           k_fold = pickle.load(j)\n",
    "with open(\"Data/bank_final1.pickle\",\"rb\") as i:\n",
    "           bank_final1= pickle.load(i) \n",
    "with open(\"Data/bank_scale_std.pickle\",\"rb\") as k:\n",
    "           bank_scale_std= pickle.load(k) \n",
    "with open(\"Data/bank_scale_mean.pickle\",\"rb\") as l:\n",
    "           bank_scale_mean= pickle.load(l) "
   ]
  },
  {
   "cell_type": "markdown",
   "metadata": {},
   "source": [
    "### Supervised Learnig - Classificazione"
   ]
  },
  {
   "cell_type": "markdown",
   "metadata": {},
   "source": [
    "L'obiettivo a questo punto è trovare un algoritmo che, in base alle informazioni ottenute a partire dai dati in nostro possesso, sia in grado di classificare correttamente delle nuove osservazioni per le quali non conosciamo il valore della variabile target. In questo caso si parla di algoritmi supervisionati, o Supervised Learning, proprio perchè l'algoritmo impara dai dati per i quali conosce il valore della variabile target. Una volta trainato il modello, questo sarà in grado di fornire un valore per la variabile di interesse con un certo grado di accuratezza e, in base alla risposta ottenuta, possiamo agire di conseguenza: \n",
    "- Se otteniamo yes = 1 allora al cliente verrà proposta la campagna pubblicitaria;\n",
    "- Se otteniamo yes = 0 allora al cliente non verrà proposta la campagna pubblicitaria. "
   ]
  },
  {
   "cell_type": "markdown",
   "metadata": {},
   "source": [
    "### Regressione Logistica"
   ]
  },
  {
   "cell_type": "markdown",
   "metadata": {},
   "source": [
    "Il primo modello che possiamo testare per il nostro caso di studio è la Regressione Logistica. Partiamo da questo modello proprio perchè risulta essere il più semplice e di più facile interpretazione. La Regressione Logistica è un tipo di regressione non-lineare utilizzato quando la variabile dipendente assume solo due valori, quindi può essere sfruttata per un problema di classificazione a due categorie come nel nostro caso. L'output di questo modello è la probabilità con cui ogni singola osservazione appartiene alla classe di riferimento scelta. "
   ]
  },
  {
   "cell_type": "code",
   "execution_count": 20,
   "metadata": {},
   "outputs": [
    {
     "name": "stdout",
     "output_type": "stream",
     "text": [
      "Matrice di Confusione:\n",
      "      0    1\n",
      "0  8398  402\n",
      "1   689  378\n",
      "\n",
      "\n",
      "Accuratezza:  88.94 %\n",
      "Accuratezza con K-fold:  84.63 %\n",
      "\n",
      "\n",
      "Regressione Logistica con pesi per le classi bilanciati\n",
      "Matrice di Confusione:\n",
      "      0     1\n",
      "0  7541  1259\n",
      "1   433   634\n",
      "\n",
      "\n",
      "Accuratezza:  82.85 %\n",
      "Accuratezza con K-fold:  81.07 %\n"
     ]
    }
   ],
   "source": [
    "logmodel = LogisticRegression(random_state = 100) \n",
    "logmodel_weighted = LogisticRegression(random_state=0, class_weight='balanced') \n",
    "\n",
    "\n",
    "logmodel.fit(X_train1,y_train1)\n",
    "logpred = logmodel.predict(X_test1)\n",
    "LOGCV = round((cross_val_score(logmodel, X_train1, y_train1, cv=k_fold, n_jobs=1, scoring = 'accuracy').mean()),4)*100\n",
    "conf_matrix = pd.DataFrame(data = confusion_matrix(y_test1, logpred))\n",
    "\n",
    "print('Matrice di Confusione:')\n",
    "print(conf_matrix)\n",
    "print('\\n')\n",
    "print('Accuratezza: ',round(accuracy_score(y_test1, logpred)*100,2), '%')\n",
    "print('Accuratezza con K-fold: ', round(LOGCV,4), '%')\n",
    "\n",
    "\n",
    "logmodel_weighted.fit(X_train1,y_train1)\n",
    "logpred_weighted = logmodel_weighted.predict(X_test1)\n",
    "LOGCV_weighted = round((cross_val_score(logmodel_weighted, X_train1, y_train1, cv=k_fold, n_jobs=1, scoring = 'accuracy').mean()),4)*100\n",
    "conf_matrix_weighted = pd.DataFrame(data = confusion_matrix(y_test1, logpred_weighted))\n",
    "\n",
    "\n",
    "print('\\n')\n",
    "print('Regressione Logistica con pesi per le classi bilanciati')\n",
    "print('Matrice di Confusione:')\n",
    "print(conf_matrix_weighted)\n",
    "print('\\n')\n",
    "print('Accuratezza: ',round(accuracy_score(y_test1, logpred_weighted)*100,2), '%')\n",
    "print('Accuratezza con K-fold: ', round(LOGCV_weighted,4), '%')"
   ]
  },
  {
   "cell_type": "markdown",
   "metadata": {},
   "source": [
    "Per quanto riguarda il primo modello implementato, cioè la Regressione Logistica con parametri assegnati di default, possiamo fare le seguenti analisi. Dai risultati presentati nella prima matrice di confusione riportata sopra, possiamo analizzare più nel dettaglio gli errori commessi dall'algoritmo nella classificazione delle osservazioni appartenenti al Test Set. \n",
    "<br>\n",
    "8776 (8398 + 378) osservazioni sono state assegnate alla classe di appartenenza corretta e da questo si deduce il valore dell'accuratezza di 88,94%.  \n",
    "<br> \n",
    "Le osservazioni che sono state classificate come clienti target per la campagna pubblicitaria quando in realtà sono risultati dei profili che non hanno sottoscritto il servizio sono in totale 402. Se non avessimo conosciuto come si è comportato il cliente come in questo caso, tutti questi clienti avrebbero fatto parte della campagna pubblicitaria anche se non direttamente interessati. \n",
    "<br> \n",
    "D'altra parte, le osservazioni che sono state classificate come clienti non target per la campagna pubblicitaria ma che in realtà hanno poi sottoscrittto il servizio proposto sono un totale di 689. In questo caso, senza conoscere l'output reale, i clienti relativi a queste osservazioni non sarebbero stati esposti alla campagna pubblicitaria quando invece sarebbero stati potenzialmente interessati, risultando in una perdita di potenziali clienti. \n",
    "<br>\n",
    "Le medesime considerazioni possono essere fatte anche per il secondo modello per il quale abbiamo impostato i pesi da assegnare alle due classi. In questo modo, le classificazioni errate della classe di minoranza vengono penalizzate maggiormente. Questo si traduce in un maggior numero di osservazioni che vengono classificate come appartenenti alla classe 1 (sia classificate correttamente sia non correttamente), risultando così in un'accuratezza minore rispetto al modello precedente pari a 82,85%. \n",
    " "
   ]
  },
  {
   "cell_type": "markdown",
   "metadata": {},
   "source": [
    "Un metodo utilizzato per valutare la capacità di un algoritmo di classificare correttamente osservazioni appartenenti alle due classi è lo studio della curva ROC. In questo grafico vengono rappresentati i valori del tasso dei veri positivi e il tasso dei falsi positivi per diversi valori del parametro del classificatore, nel nostro caso la probabilità cut-off dalla Regressione Logistica. La diagonale in rosso rappresenta un classificatore casuale, mentre la linea blu è la curva ROC del nostro classificatore. Più questa linea si avvicina al punto di coordinate (0,1), più il classificatore è accurato, essendo la linea che unisce i punti di coordinate (0,0), (0,1) e (1,1) il classificatore perfetto. Un altro parametro da analizzare in questo grafico è l'AUC, \"area sotto la curva\", che indica la probabilità che un'osservazione estratta a caso sia assegnata alla sua effettiva classe di appartenenza dal classificatore.\n",
    "<br>\n",
    "Riportiamo di seguiti le curve ROC per i differenti modelli di Regressione Logistica visti fino ad ora, le quali risultano essere molto simili tra loro. "
   ]
  },
  {
   "cell_type": "code",
   "execution_count": 21,
   "metadata": {},
   "outputs": [
    {
     "data": {
      "image/png": "[encoded data removed]",
      "text/plain": [
       "<Figure size 720x360 with 2 Axes>"
      ]
     },
     "metadata": {
      "needs_background": "light"
     },
     "output_type": "display_data"
    }
   ],
   "source": [
    "fig, ax_arr = plt.subplots(nrows = 1, ncols = 2, figsize=(10,5))\n",
    "\n",
    "#Regressione Logistica Default\n",
    "probs = logmodel.predict_proba(X_test1)\n",
    "preds = probs[:,1]\n",
    "fprlog, tprlog, thresholdlog = metrics.roc_curve(y_test1, preds)\n",
    "roc_auclog = metrics.auc(fprlog, tprlog)\n",
    "\n",
    "#fig, ax = plt.subplots(nrows = 1, ncols = 1, figsize = (6,6))\n",
    "ax_arr[0].plot(fprlog, tprlog, 'b', label = 'AUC = %0.2f' % roc_auclog)\n",
    "ax_arr[0].plot([0, 1], [0, 1],'r--')\n",
    "ax_arr[0].set_title('Default ',fontsize=20)\n",
    "ax_arr[0].set_ylabel('True Positive Rate',fontsize=20)\n",
    "ax_arr[0].set_xlabel('False Positive Rate',fontsize=15)\n",
    "ax_arr[0].legend(loc = 'lower right', prop={'size': 16})\n",
    "\n",
    "#Regressione Logistica - balanced weight\n",
    "probs = logmodel_weighted.predict_proba(X_test1)\n",
    "preds = probs[:,1]\n",
    "fprlog_w, tprlog_w, thresholdlog_w = metrics.roc_curve(y_test1, preds)\n",
    "roc_auclog_w = metrics.auc(fprlog_w, tprlog_w)\n",
    "\n",
    "ax_arr[1].plot(fprlog_w, tprlog_w, 'b', label = 'AUC = %0.2f' % roc_auclog_w)\n",
    "ax_arr[1].plot([0, 1], [0, 1],'r--')\n",
    "ax_arr[1].set_title('Balanced class weight',fontsize=20)\n",
    "ax_arr[1].set_ylabel('True Positive Rate',fontsize=20)\n",
    "ax_arr[1].set_xlabel('False Positive Rate',fontsize=15)\n",
    "ax_arr[1].legend(loc = 'lower right', prop={'size': 16})\n",
    "\n",
    "\n",
    "plt.subplots_adjust(wspace=0.2)\n",
    "plt.tight_layout() \n",
    "plt.show()"
   ]
  },
  {
   "cell_type": "markdown",
   "metadata": {},
   "source": [
    "Ci sono poi altri indicatori della bontà del modello che vengono di seguito calcolati per vedere come si comporta il classificatore in questione nelle due diverse versioni. \n",
    "<br>\n",
    "Innanzitutto, possiamo notare il valore dell'accuratezza pari a 89% (come già visto in precedenza). Questo valore indica il numero di osservazioni classificate correttamente sul totale delle osservazioni e nel nostro caso risulta essere abbastanza soddisfacente. Non bisogna però fermarsi allo studio di questo singolo valore perchè, nel caso di classi sbilanciate come il nostro, potrebbe essere non sufficiente. Bisogna controllare i valori di altre due metriche importanti: la precisione e il recall. Questi due dati tengono conto anche delle osservazioni classificate in modo scorretto, al contrario dell'accuratezza, e sono proprio queste osservazioni che possono avere degli impatti anche notevoli a livello di costi per il business: \n",
    "<br>\n",
    "- la precisione è l’abilità di un classificatore di non etichettare un’istanza positiva che è in realtà negativa.  Il valore di questa metrica è importante soprattutto quando il costo dei falsi positivi è alto, nel nostro caso il fatto di includere un cliente nella campagna pubblicitaria quando in realtà non risulta interessato;\n",
    "\n",
    "- il recall è la capacità di un classificatore di trovare tutte le istanze positive. Questa metrica è di interesse, invece, quando il costo dei falsi negativi è alto, nel nostro caso il fatto di non includere un cliente potenzialmente interessato nella campagna pubblicitaria; \n",
    "\n",
    "- lo score-f1 è una media armonica tra precision e recall, quindi tiene conto dell'errore di classificazione di entrambe le classi. \n",
    "<br>\n",
    "Per il nostro modello, tutti e tre gli indicatori risultano essere piuttosto bassi (fare riferimento alla riga relativa al valore 1) nonostante l'accuratezza risultasse invece molto elevata. \n",
    "<br> \n",
    "Per questo motivo, nelle sezioni seguenti esploreremo anche altri modelli predittivi più complessi per vedere se si possono ottenere risultati migliori.\n"
   ]
  },
  {
   "cell_type": "code",
   "execution_count": 23,
   "metadata": {},
   "outputs": [
    {
     "name": "stdout",
     "output_type": "stream",
     "text": [
      "Regressione Logistica Default\n",
      "              precision    recall  f1-score   support\n",
      "\n",
      "           0       0.92      0.95      0.94      8800\n",
      "           1       0.48      0.35      0.41      1067\n",
      "\n",
      "    accuracy                           0.89      9867\n",
      "   macro avg       0.70      0.65      0.67      9867\n",
      "weighted avg       0.88      0.89      0.88      9867\n",
      "\n",
      "Regressione Logistica - Balanced weight\n",
      "              precision    recall  f1-score   support\n",
      "\n",
      "           0       0.95      0.86      0.90      8800\n",
      "           1       0.33      0.59      0.43      1067\n",
      "\n",
      "    accuracy                           0.83      9867\n",
      "   macro avg       0.64      0.73      0.66      9867\n",
      "weighted avg       0.88      0.83      0.85      9867\n",
      "\n"
     ]
    }
   ],
   "source": [
    "print('Regressione Logistica Default')\n",
    "print(classification_report(y_test1, logpred))\n",
    "\n",
    "report_log = classification_report(y_test1, logpred, output_dict=True)\n",
    "precision_log = round(report_log['1']['precision'],2)\n",
    "recall_log = round(report_log['1']['recall'],2)\n",
    "f1_log = round(report_log['1']['f1-score'],2)\n",
    "\n",
    "print('Regressione Logistica - Balanced weight')\n",
    "print(classification_report(y_test1, logpred_weighted))\n",
    "\n",
    "report_logw = classification_report(y_test1, logpred_weighted, output_dict=True)\n",
    "precision_logw = round(report_logw['1']['precision'],2)\n",
    "recall_logw = round(report_logw['1']['recall'],2)\n",
    "f1_logw = round(report_logw['1']['f1-score'],2)"
   ]
  },
  {
   "cell_type": "markdown",
   "metadata": {},
   "source": [
    "Nonnostante i risultati ottenuti, una volta che abbiamo trainato il nostro modello, possiamo comunque provare ad utilizzarlo per classificare delle nuove osservazioni in near-real-time. Supponiamo che un nostro cliente si colleghi all'internet banking e raccogliamo direttamente i dati corrispondenti dalle diverse fonti. \n",
    "<br> \n",
    "<br>\n",
    "I suoi dati anagrafici:\n",
    "* età : 34 anni; \n",
    "* professione: libero professionista\n",
    "* stato civile: sposato; \n",
    "* livello di educazione: universitario.\n",
    "\n",
    "I dati relativi al suo profilo finanziario: \n",
    "* default: no;\n",
    "* mutuo sulla casa: si; \n",
    "* mutuo personale: no. \n",
    "\n",
    "I dati relativi alla campagna pubblicitaria: \n",
    "* mese: settembre; \n",
    "* giorno della settimana: mercoledì;\n",
    "* campagne: 6;\n",
    "* giorni_p: 4; \n",
    "* precedente: 1; \n",
    "* outcome_p: successo.\n",
    "<br>\n",
    "\n",
    "E infine i dati socio-economici relativi al periodo in cui è stato effettuato l'accesso. \n",
    "\n",
    "<br> A questo punto, siamo in grado di predirre la classe di appartenenza di questo cliente con un certo livello di accuratezza e quindi agire di conseguenza e proporre o meno la campagna pubblicitaria all'interno della pagina personale dell'internet banking. In questo caso, il modello di Regressione Logistica stima le probabilità di appartenenza alle due categorie differenti e assegna l'osservazione alla classe con la probabilità più alta. "
   ]
  },
  {
   "cell_type": "code",
   "execution_count": 24,
   "metadata": {},
   "outputs": [
    {
     "name": "stdout",
     "output_type": "stream",
     "text": [
      "Le probabilità di appartenenza alle classi sono:  0.7 e  0.3\n",
      "Quindi la classe di appartenza di questa osservazione è:  0\n"
     ]
    }
   ],
   "source": [
    "new_data = np.array([[25, 1, 999, 0, 1.1, 93.994, -36.4, 4.857, 5191, 0, 0, 0, 0, 0, 0, 0, 1, 0, 0, 0, 1, 0, 0, 0, 0, 0, 1, 0, 0, \n",
    "            0, 0, 0, 1, 0, 1, 1, 0, 0, 0, 0, 0, 0, 0, 1, 0, 0, 0, 0, 1, 0]])\n",
    "\n",
    "\n",
    "new_data = pd.DataFrame(new_data, columns=bank_final1.columns[0:50])    \n",
    "new_data_scale = (new_data.iloc[:, 0:9] - bank_scale_mean)/bank_scale_std\n",
    "\n",
    "new_data = pd.concat([new_data_scale, new_data.iloc[:, 9:51]], axis=1)\n",
    "\n",
    "print('Le probabilità di appartenenza alle classi sono: ', round(logmodel.predict_proba(new_data)[0][0],2), \n",
    "      'e ' ,round(logmodel.predict_proba(new_data)[0][1],2))\n",
    "print('Quindi la classe di appartenza di questa osservazione è: ', logmodel.predict(new_data)[0])\n"
   ]
  },
  {
   "cell_type": "markdown",
   "metadata": {},
   "source": [
    "### Albero Decisionale"
   ]
  },
  {
   "cell_type": "markdown",
   "metadata": {},
   "source": [
    "Proviamo ora un altro classificatore: l'albero decisionale.\n",
    "<br>\n",
    "Questo algoritmo produce un grafico ad albero dove ogni nodo interno rappresenta una variabile, un arco verso un nodo figlio rappresenta un possibile valore o intervallo di valori per quella proprietà e una foglia il valore predetto per la variabile obiettivo a partire dai valori delle altre proprietà, nel nostro caso l'appartenenza ad una delle due classi. \n",
    "<br> \n",
    "Gli alberi decisionali soffrono dell'aumento del numero di variabili e la presenza di molte variabili dummizzate nel nostro dataset potrebbe influenzare negativamente i risultati ottenuti da questo algoritmo. Da studi in letteratura, è stato verificato che, in alcuni casi, i risultati ottenuti senza dummizzare le variabili sono confrontabili ma il tempo di training del modello è decisamente inferiore. \n",
    "<br>\n",
    "Per questo motivo, per prima cosa, riorganizziamo la struttura del dataset trasformando le variabili categoriche in variabili numeriche, in cui ogni livello corrisponde a un intero."
   ]
  },
  {
   "cell_type": "code",
   "execution_count": 29,
   "metadata": {},
   "outputs": [
    {
     "name": "stdout",
     "output_type": "stream",
     "text": [
      "Colonna Professione trasformata tramite LabelEncoder:\n",
      "0            admin.\n",
      "1       blue-collar\n",
      "2      entrepreneur\n",
      "3         housemaid\n",
      "4        management\n",
      "5     self-employed\n",
      "6          services\n",
      "7           student\n",
      "8        technician\n",
      "9        unemployed\n",
      "10          unknown\n",
      "dtype: object\n"
     ]
    }
   ],
   "source": [
    "bank_client = bank.iloc[: , 0:7]\n",
    "labelencoder_X = LabelEncoder()\n",
    "\n",
    "bank_client['professione']      = labelencoder_X.fit_transform(bank_client['professione']) \n",
    "job = pd.DataFrame([labelencoder_X.inverse_transform(bank_client['professione'].sort_values().unique())])\n",
    "print('Colonna Professione trasformata tramite LabelEncoder:')\n",
    "\n",
    "print( pd.Series(labelencoder_X.inverse_transform(bank_client['professione'].sort_values().unique())))\n",
    "\n",
    "bank_client['stato_civile']  = labelencoder_X.fit_transform(bank_client['stato_civile']) \n",
    "marital = pd.DataFrame([labelencoder_X.inverse_transform(bank_client['stato_civile'].sort_values().unique())])\n",
    "\n",
    "bank_client['istruzione']= labelencoder_X.fit_transform(bank_client['istruzione']) \n",
    "education = pd.DataFrame([labelencoder_X.inverse_transform(bank_client['istruzione'].sort_values().unique())])\n",
    "\n",
    "bank_client['default']  = labelencoder_X.fit_transform(bank_client['default'])\n",
    "default = pd.DataFrame([labelencoder_X.inverse_transform(bank_client['default'].sort_values().unique())])\n",
    "\n",
    "bank_client['prestito_casa']  = labelencoder_X.fit_transform(bank_client['prestito_casa']) \n",
    "housing = pd.DataFrame([labelencoder_X.inverse_transform(bank_client['prestito_casa'].sort_values().unique())])\n",
    "\n",
    "bank_client['prestito_personale']     = labelencoder_X.fit_transform(bank_client['prestito_personale']) \n",
    "loan = pd.DataFrame([labelencoder_X.inverse_transform(bank_client['prestito_personale'].sort_values().unique())])\n",
    "\n",
    "bank_time = bank.iloc[: , 7:9]\n",
    "labelencoder_X = LabelEncoder()\n",
    "bank_time['mese']       = labelencoder_X.fit_transform(bank_time['mese']) \n",
    "month = pd.DataFrame([labelencoder_X.inverse_transform(bank_time['mese'].sort_values().unique())])\n",
    "\n",
    "bank_time['giorno_settimana'] = labelencoder_X.fit_transform(bank_time['giorno_settimana'])\n",
    "day_of_week = pd.DataFrame([labelencoder_X.inverse_transform(bank_time['giorno_settimana'].sort_values().unique())])\n",
    "\n",
    "bank_o = bank.loc[: , ['campagne', 'giorni_p','precedente', 'outcome_p']]\n",
    "bank_o['outcome_p'].replace(['nonexistent', 'failure', 'success'], [1,2,3], inplace  = True)\n",
    "bank_se = bank.loc[: , ['emp.var.rate', 'cons.price.idx', 'cons.conf.idx', 'euribor3m', 'nr.employed']]\n",
    "\n",
    "bank_final_encoded= pd.concat([bank_client, bank_time, bank_se, bank_o], axis = 1)\n",
    "bank_final_encoded = bank_final_encoded[['eta', 'professione', 'stato_civile', 'istruzione', 'default', 'prestito_casa', \n",
    "                                         'prestito_personale', 'mese', 'giorno_settimana', 'emp.var.rate', 'cons.price.idx', \n",
    "                     'cons.conf.idx', 'euribor3m', 'nr.employed', 'campagne', 'giorni_p', 'precedente', 'outcome_p']]\n",
    "        \n",
    "y = pd.get_dummies(bank['y'], columns = ['y'], drop_first = True)        \n",
    "bank_final_encoded = pd.concat([bank_final_encoded, y], axis = 1)"
   ]
  },
  {
   "cell_type": "code",
   "execution_count": 30,
   "metadata": {},
   "outputs": [],
   "source": [
    "X_train2, X_test2, y_train2, y_test2 = train_test_split(bank_final_encoded.drop('yes', axis = 1), \n",
    "                                                    bank_final_encoded['yes'], test_size = 0.25, random_state = 101)\n",
    "\n",
    "\n",
    "k_fold = KFold(n_splits=10, shuffle=True, random_state=0)\n",
    "df_total = pd.concat([X_train2, y_train2], axis=1)\n",
    "\n",
    "df_majority = df_total[df_total['yes'] == 0]\n",
    "df_minority = df_total[df_total['yes'] == 1]\n",
    "\n",
    "df_minority_upsampled = resample(df_minority, \n",
    "                                 replace=True,    \n",
    "                                 n_samples= int(3139*2),\n",
    "                                 random_state=123) \n",
    "\n",
    "\n",
    "df_upsampled = pd.concat([df_majority, df_minority_upsampled])\n",
    "y_new = df_upsampled['yes']\n",
    "\n",
    "X_train2 = df_upsampled.drop('yes', axis=1)\n",
    "y_train2 = df_upsampled['yes']"
   ]
  },
  {
   "cell_type": "markdown",
   "metadata": {},
   "source": [
    "Per questo modello valgono le considerazioni fatte in precedenza per la Regressione Logistica. \n",
    "<br> \n",
    "Procediamo nella medesima maniera anche per l'albero decisionale: \n",
    "* Implementazione del modello; \n",
    "* Studio della matrice di confusione; \n",
    "* Studio della precision e recall dal report di classificazione.\n"
   ]
  },
  {
   "cell_type": "code",
   "execution_count": 31,
   "metadata": {},
   "outputs": [
    {
     "name": "stdout",
     "output_type": "stream",
     "text": [
      "Matrice di Confusione:\n",
      "      0    1\n",
      "0  8006  794\n",
      "1   744  323\n",
      "\n",
      "\n",
      "Accuratezza:  84.41 %\n",
      "Accuratezza con K-fold:  90.4 %\n"
     ]
    }
   ],
   "source": [
    "dectree = tree.DecisionTreeClassifier(random_state=123)\n",
    "dectree.fit(X_train2, y_train2)\n",
    "dectreepred = dectree.predict(X_test2)\n",
    "DTCV = round((cross_val_score(dectree, X_train2, y_train2, cv=k_fold, n_jobs=1, scoring = 'accuracy').mean()),4)*100\n",
    "conf_matrix = pd.DataFrame(data = confusion_matrix(y_test2, dectreepred))\n",
    "\n",
    "print('Matrice di Confusione:')\n",
    "print(conf_matrix)\n",
    "print('\\n')\n",
    "print('Accuratezza: ',round(accuracy_score(y_test2, dectreepred)*100,2), '%')\n",
    "print('Accuratezza con K-fold: ', round(DTCV,4), '%')"
   ]
  },
  {
   "cell_type": "code",
   "execution_count": 32,
   "metadata": {},
   "outputs": [
    {
     "name": "stdout",
     "output_type": "stream",
     "text": [
      "              precision    recall  f1-score   support\n",
      "\n",
      "           0       0.91      0.91      0.91      8800\n",
      "           1       0.29      0.30      0.30      1067\n",
      "\n",
      "    accuracy                           0.84      9867\n",
      "   macro avg       0.60      0.61      0.60      9867\n",
      "weighted avg       0.85      0.84      0.85      9867\n",
      "\n"
     ]
    }
   ],
   "source": [
    "print(classification_report(y_test2, dectreepred))\n",
    "report_dt = classification_report(y_test2, dectreepred, output_dict=True)\n",
    "precision_dt = round(report_dt['1']['precision'],2)\n",
    "recall_dt = round(report_dt['1']['recall'],2)\n",
    "f1_dt = round(report_dt['1']['f1-score'],2)"
   ]
  },
  {
   "cell_type": "code",
   "execution_count": 33,
   "metadata": {},
   "outputs": [
    {
     "name": "stdout",
     "output_type": "stream",
     "text": [
      "Le probabilità di appartenenza alle classi sono:  1.0 e  0.0\n",
      "Quindi la classe di appartenza di questa osservazione è:  0\n"
     ]
    }
   ],
   "source": [
    "new_data = np.array([[25, 5, 1, 6, 0, 2, 0, 9, 4, 1.1, 93.994, -36.4, 4.857, 5191, 1, 999, 0, 1]])\n",
    "\n",
    "new_data = pd.DataFrame(new_data, columns=X_train2.columns[0:18])    \n",
    "\n",
    "print('Le probabilità di appartenenza alle classi sono: ', round(dectree.predict_proba(new_data)[0][0],2), \n",
    "      'e ' ,round(dectree.predict_proba(new_data)[0][1],2))\n",
    "print('Quindi la classe di appartenza di questa osservazione è: ', dectree.predict(new_data)[0])"
   ]
  },
  {
   "cell_type": "markdown",
   "metadata": {},
   "source": [
    "### Classificatore Random Forest"
   ]
  },
  {
   "cell_type": "markdown",
   "metadata": {},
   "source": [
    "Una foresta casuale è un classificatore che è composto da molti alberi di decisione e dà in uscita la classe che appare più volte, quindi secondo una logica di voto di maggioranza, negli alberi presi individualmente. L'algoritmo degli alberi decisionali che compongono la foresta casuale si differenzia dall'algoritmo standard perchè, ad ogni nodo decisionale, viene selezionata la variabile d'interesse solo tra quelle presenti in un sottoinsieme casuale del totale delle variabili. "
   ]
  },
  {
   "cell_type": "markdown",
   "metadata": {},
   "source": [
    "Per questo modello valgono le considerazioni fatte in precedenza per la Regressione Logistica e l'Albero Decisionale. \n",
    "<br> \n",
    "Procediamo nella medesima maniera anche per la Random Forest: \n",
    "* Implementazione del modello; \n",
    "* Studio della matrice di confusione; \n",
    "* Studio della precision e recall dal report di classificazione; \n",
    "* Studio della curva ROC. "
   ]
  },
  {
   "cell_type": "code",
   "execution_count": 35,
   "metadata": {},
   "outputs": [
    {
     "name": "stdout",
     "output_type": "stream",
     "text": [
      "Matrice di Confusione:\n",
      "      0    1\n",
      "0  8486  314\n",
      "1   748  319\n",
      "\n",
      "\n",
      "Accuratezza:  89.0 %\n",
      "Accuratezza con K-fold:  94.9 %\n"
     ]
    }
   ],
   "source": [
    "rfc = RandomForestClassifier(n_estimators = 200, n_jobs=2, random_state = 12) #criterion = entropy,gini\n",
    "rfc.fit(X_train2, y_train2)\n",
    "rfcpred = rfc.predict(X_test2)\n",
    "RFCCV = round((cross_val_score(rfc, X_train2, y_train2, cv=k_fold, n_jobs=2, scoring = 'accuracy').mean()),4)*100\n",
    "\n",
    "conf_matrix = pd.DataFrame(data = confusion_matrix(y_test2, rfcpred))\n",
    "\n",
    "\n",
    "print('Matrice di Confusione:')\n",
    "print(conf_matrix)\n",
    "print('\\n')\n",
    "print('Accuratezza: ',round(accuracy_score(y_test2, rfcpred),2)*100, '%')\n",
    "print('Accuratezza con K-fold: ', round(RFCCV,2), '%')"
   ]
  },
  {
   "cell_type": "code",
   "execution_count": 36,
   "metadata": {},
   "outputs": [
    {
     "data": {
      "image/png": "[encoded data removed]",
      "text/plain": [
       "<Figure size 432x432 with 1 Axes>"
      ]
     },
     "metadata": {
      "needs_background": "light"
     },
     "output_type": "display_data"
    }
   ],
   "source": [
    "#fig, ax_arr = plt.subplots(nrows = 1, ncols = 3, figsize=(15,5))\n",
    "\n",
    "probs = rfc.predict_proba(X_test2)\n",
    "preds = probs[:,1]\n",
    "fprrfc, tprrfc, thresholdrfc = metrics.roc_curve(y_test2, preds)\n",
    "roc_aucrfc = metrics.auc(fprrfc, tprrfc)\n",
    "\n",
    "fig, ax_arr = plt.subplots(nrows = 1, ncols = 1, figsize = (6,6))\n",
    "ax_arr.plot(fprrfc, tprrfc, 'b', label = 'AUC = %0.2f' % roc_aucrfc)\n",
    "ax_arr.plot([0, 1], [0, 1],'r--')\n",
    "ax_arr.set_title('Random Forest',fontsize=20)\n",
    "ax_arr.set_ylabel('True Positive Rate',fontsize=20)\n",
    "ax_arr.set_xlabel('False Positive Rate',fontsize=15)\n",
    "ax_arr.legend(loc = 'lower right', prop={'size': 16})\n",
    "\n",
    "plt.show()"
   ]
  },
  {
   "cell_type": "code",
   "execution_count": 37,
   "metadata": {},
   "outputs": [
    {
     "name": "stdout",
     "output_type": "stream",
     "text": [
      "              precision    recall  f1-score   support\n",
      "\n",
      "           0       0.92      0.96      0.94      8800\n",
      "           1       0.50      0.30      0.38      1067\n",
      "\n",
      "    accuracy                           0.89      9867\n",
      "   macro avg       0.71      0.63      0.66      9867\n",
      "weighted avg       0.87      0.89      0.88      9867\n",
      "\n"
     ]
    }
   ],
   "source": [
    "print(classification_report(y_test2, rfcpred))\n",
    "\n",
    "report_rfc = classification_report(y_test2, rfcpred, output_dict=True)\n",
    "precision_rfc = round(report_rfc['1']['precision'],2)\n",
    "recall_rfc = round(report_rfc['1']['recall'],2)\n",
    "f1_rfc = round(report_rfc['1']['f1-score'],2)"
   ]
  },
  {
   "cell_type": "code",
   "execution_count": 38,
   "metadata": {},
   "outputs": [
    {
     "name": "stdout",
     "output_type": "stream",
     "text": [
      "Le probabilità di appartenenza alle classi sono:  0.7 e  0.3\n",
      "Quindi la classe di appartenza di questa osservazione è:  0\n"
     ]
    }
   ],
   "source": [
    "new_data = np.array([[25, 5, 1, 6, 0, 2, 0, 9, 4, 1.1, 93.994, -36.4, 4.857, 5191, 1, 999, 0, 1]])\n",
    "\n",
    "new_data = pd.DataFrame(new_data, columns=X_train2.columns[0:18])    \n",
    "\n",
    "print('Le probabilità di appartenenza alle classi sono: ', round(rfc.predict_proba(new_data)[0][0],2), \n",
    "      'e ' ,round(rfc.predict_proba(new_data)[0][1],2))\n",
    "print('Quindi la classe di appartenza di questa osservazione è: ', rfc.predict(new_data)[0])"
   ]
  },
  {
   "cell_type": "markdown",
   "metadata": {},
   "source": [
    "### Gradient  Boosting "
   ]
  },
  {
   "cell_type": "markdown",
   "metadata": {},
   "source": [
    "Il Gradient Boosting è una tecnica il cui obiettivo è riprodurre un modello predittivo nella forma di un insieme di modelli predittivi deboli, tipicamente alberi di decisione. In questo caso, il Gradient Boosting costruisce gli alberi decisionali uno alla volta e ogni nuovo albero corregge gli errori fatti dall'albero trainato al passaggio precedente. Intuitivamente, l'algoritmo cerca di minimizzare i residui degli errori della classificazione; algoritmicamente, questo si traduce nel minimizzare la funzione obiettivo del modello in questione. "
   ]
  },
  {
   "cell_type": "code",
   "execution_count": 39,
   "metadata": {},
   "outputs": [
    {
     "name": "stdout",
     "output_type": "stream",
     "text": [
      "Matrice di Confusione:\n",
      "      0    1\n",
      "0  8367  433\n",
      "1   647  420\n",
      "\n",
      "\n",
      "Accuratezza:  89.0 %\n",
      "Accuratezza con K-fold:  85.54 %\n"
     ]
    }
   ],
   "source": [
    "gbk = GradientBoostingClassifier()\n",
    "gbk.fit(X_train2, y_train2)\n",
    "gbkpred = gbk.predict(X_test2)\n",
    "GBKCV = round((cross_val_score(gbk, X_train2, y_train2, cv=k_fold, n_jobs=1, scoring = 'accuracy').mean()),4)*100\n",
    "conf_matrix = pd.DataFrame(data = confusion_matrix(y_test2, gbkpred))\n",
    "\n",
    "\n",
    "print('Matrice di Confusione:')\n",
    "print(conf_matrix)\n",
    "print('\\n')\n",
    "print('Accuratezza: ',round(accuracy_score(y_test2, gbkpred),2)*100, '%')\n",
    "print('Accuratezza con K-fold: ', round(GBKCV,2), '%')"
   ]
  },
  {
   "cell_type": "code",
   "execution_count": 40,
   "metadata": {},
   "outputs": [
    {
     "data": {
      "image/png": "[encoded data removed]",
      "text/plain": [
       "<Figure size 432x432 with 1 Axes>"
      ]
     },
     "metadata": {
      "needs_background": "light"
     },
     "output_type": "display_data"
    }
   ],
   "source": [
    "probs = gbk.predict_proba(X_test2)\n",
    "preds = probs[:,1]\n",
    "fprgbk, tprgbk, thresholdgbk = metrics.roc_curve(y_test2, preds)\n",
    "roc_aucgbk = metrics.auc(fprgbk, tprgbk)\n",
    "\n",
    "fig, ax_arr = plt.subplots(nrows = 1, ncols = 1, figsize = (6,6))\n",
    "ax_arr.plot(fprgbk, tprgbk, 'b', label = 'AUC = %0.2f' % roc_aucgbk)\n",
    "ax_arr.plot([0, 1], [0, 1],'r--')\n",
    "ax_arr.set_title('Gradient Boosting',fontsize=20)\n",
    "ax_arr.set_ylabel('True Positive Rate',fontsize=20)\n",
    "ax_arr.set_xlabel('False Positive Rate',fontsize=15)\n",
    "ax_arr.legend(loc = 'lower right', prop={'size': 16})\n",
    "\n",
    "plt.show()"
   ]
  },
  {
   "cell_type": "code",
   "execution_count": 41,
   "metadata": {},
   "outputs": [
    {
     "name": "stdout",
     "output_type": "stream",
     "text": [
      "              precision    recall  f1-score   support\n",
      "\n",
      "           0       0.93      0.95      0.94      8800\n",
      "           1       0.49      0.39      0.44      1067\n",
      "\n",
      "    accuracy                           0.89      9867\n",
      "   macro avg       0.71      0.67      0.69      9867\n",
      "weighted avg       0.88      0.89      0.89      9867\n",
      "\n"
     ]
    }
   ],
   "source": [
    "print(classification_report(y_test2, gbkpred))\n",
    "report_gbk = classification_report(y_test2, gbkpred, output_dict=True)\n",
    "precision_gbk = round(report_gbk['1']['precision'],2)\n",
    "recall_gbk = round(report_gbk['1']['recall'],2)\n",
    "f1_gbk = round(report_gbk['1']['f1-score'],2)"
   ]
  },
  {
   "cell_type": "code",
   "execution_count": 42,
   "metadata": {},
   "outputs": [
    {
     "name": "stdout",
     "output_type": "stream",
     "text": [
      "Le probabilità di appartenenza alle classi sono:  0.38 e  0.62\n",
      "Quindi la classe di appartenza di questa osservazione è:  1\n"
     ]
    }
   ],
   "source": [
    "new_data = np.array([[25, 5, 1, 6, 0, 2, 0, 9, 4, 1.1, 93.994, -36.4, 4.857, 5191, 1, 999, 0, 1]])\n",
    "\n",
    "new_data = pd.DataFrame(new_data, columns=X_train2.columns[0:18])    \n",
    "\n",
    "print('Le probabilità di appartenenza alle classi sono: ', round(gbk.predict_proba(new_data)[0][0],2), \n",
    "      'e ' ,round(gbk.predict_proba(new_data)[0][1],2))\n",
    "print('Quindi la classe di appartenza di questa osservazione è: ', gbk.predict(new_data)[0])"
   ]
  },
  {
   "cell_type": "markdown",
   "metadata": {},
   "source": [
    "### Conclusioni"
   ]
  },
  {
   "cell_type": "markdown",
   "metadata": {},
   "source": [
    "A seconda del nostro obiettivo e delle specifiche business, possiamo fare una classifica dei modelli considerati fino ad ora rispetto alle varie metriche di interesse. In tal modo, viene identificato il modello più performante in ogni situazione. "
   ]
  },
  {
   "cell_type": "code",
   "execution_count": 43,
   "metadata": {},
   "outputs": [
    {
     "name": "stdout",
     "output_type": "stream",
     "text": [
      "                                     Models  Score\n",
      "3                  Random Forest Classifier  94.90\n",
      "2                             Decision Tree  90.40\n",
      "4                         Gradient Boosting  85.54\n",
      "0                     Regressione Logistica  84.63\n",
      "1  Regressione Logistica - Balanced Weights  81.07\n",
      "\n",
      "\n",
      "                                     Models  Precision\n",
      "3                  Random Forest Classifier       0.50\n",
      "4                         Gradient Boosting       0.49\n",
      "0                     Regressione Logistica       0.48\n",
      "1  Regressione Logistica - Balanced Weights       0.33\n",
      "2                             Decision Tree       0.29\n",
      "\n",
      "\n",
      "                                     Models  Recall\n",
      "1  Regressione Logistica - Balanced Weights    0.59\n",
      "4                         Gradient Boosting    0.39\n",
      "0                     Regressione Logistica    0.35\n",
      "2                             Decision Tree    0.30\n",
      "3                  Random Forest Classifier    0.30\n"
     ]
    }
   ],
   "source": [
    "models = pd.DataFrame({\n",
    "                'Models': ['Regressione Logistica','Regressione Logistica - Balanced Weights',\n",
    "                          'Decision Tree','Random Forest Classifier',\n",
    "                          'Gradient Boosting'],\n",
    "                'Score':  [LOGCV, LOGCV_weighted, DTCV, RFCCV, GBKCV],\n",
    "                'Precision': [precision_log, precision_logw, precision_dt, precision_rfc, precision_gbk] ,\n",
    "                'Recall': [recall_log, recall_logw, recall_dt, recall_rfc, recall_gbk]})\n",
    "\n",
    "print(models[['Models', 'Score']].sort_values(by='Score', ascending=False))\n",
    "print('\\n')\n",
    "print(models[['Models', 'Precision']].sort_values(by='Precision', ascending=False))\n",
    "print('\\n')\n",
    "print(models[['Models', 'Recall']].sort_values(by='Recall', ascending=False))"
   ]
  },
  {
   "cell_type": "markdown",
   "metadata": {},
   "source": [
    "Come alternativa all'utilizzo di un singolo modello, possiamo definire una strategia di voto che combina i risultati ottenuti dai diversi modelli. Viene fatta una media delle probabilità di appartenenza ad ogni classe per ogni modello e poi l'osservazione viene assegnata alla classe con probabilità più alta.   "
   ]
  },
  {
   "cell_type": "code",
   "execution_count": 44,
   "metadata": {},
   "outputs": [],
   "source": [
    "def fit_multiple_estimators(classifiers, X_list, y, sample_weights = None):\n",
    "\n",
    "    # Fit all estimators with their respective feature arrays\n",
    "    estimators_ = [clf.fit(X, y) if sample_weights is None else clf.fit(X, y, sample_weights) for clf, X in zip([clf for _, clf in classifiers], X_list)]\n",
    "    return estimators_\n",
    "\n",
    "\n",
    "def predict_from_multiple_estimator(estimators, X_list, weights = None):\n",
    "\n",
    "    # Predict 'soft' voting with probabilities\n",
    "\n",
    "    pred1 = np.asarray([clf.predict_proba(X) for clf, X in zip(estimators, X_list)])\n",
    "    pred2 = np.average(pred1, axis=0, weights=weights)\n",
    "    pred = np.argmax(pred2, axis=1)\n",
    "    \n",
    "    return pred, pred1, pred2\n"
   ]
  },
  {
   "cell_type": "code",
   "execution_count": 45,
   "metadata": {},
   "outputs": [],
   "source": [
    "X_train_list = [X_train1, X_train2, X_train2]\n",
    "X_test_list = [X_test1, X_test2, X_test2]"
   ]
  },
  {
   "cell_type": "code",
   "execution_count": 46,
   "metadata": {},
   "outputs": [],
   "source": [
    "classifiers = [('logmodel',  LogisticRegression()),\n",
    "               ('random forest', RandomForestClassifier(n_estimators = 200, n_jobs=2, random_state = 12)),\n",
    "               ('gradient boosting', GradientBoostingClassifier())]"
   ]
  },
  {
   "cell_type": "code",
   "execution_count": 47,
   "metadata": {},
   "outputs": [],
   "source": [
    "fitted_estimators = fit_multiple_estimators(classifiers, X_train_list, y_train1)"
   ]
  },
  {
   "cell_type": "code",
   "execution_count": 48,
   "metadata": {
    "scrolled": true
   },
   "outputs": [],
   "source": [
    "y_pred, pred1, pred2 = predict_from_multiple_estimator(fitted_estimators, X_test_list)"
   ]
  },
  {
   "cell_type": "markdown",
   "metadata": {},
   "source": [
    "Possiamo applicare questa strategia all'intero test set e calcolarne l'accuratezza:"
   ]
  },
  {
   "cell_type": "code",
   "execution_count": 49,
   "metadata": {},
   "outputs": [
    {
     "name": "stdout",
     "output_type": "stream",
     "text": [
      "Matrice di Confusione:\n",
      "      0    1\n",
      "0  8475  325\n",
      "1   693  374\n",
      "\n",
      "\n",
      "Accuratezza:  90.0 %\n"
     ]
    }
   ],
   "source": [
    "conf_matrix = pd.DataFrame(data = confusion_matrix(y_test1, y_pred))\n",
    "\n",
    "\n",
    "print('Matrice di Confusione:')\n",
    "print(conf_matrix)\n",
    "print('\\n')\n",
    "print('Accuratezza: ',round(accuracy_score(y_test1, y_pred),2)*100, '%')"
   ]
  },
  {
   "cell_type": "markdown",
   "metadata": {},
   "source": [
    "In alternativa possiamo classificare una nuova osservazione: "
   ]
  },
  {
   "cell_type": "code",
   "execution_count": 50,
   "metadata": {},
   "outputs": [],
   "source": [
    "new_data1 = np.array([[25, 1, 999, 0, 1.1, 93.994, -36.4, 4.857, 5191, 0, 0, 0, 0, 0, 0, 0, 1, 0, 0, 0, 1, 0, 0, 0, 0, 0, 1, 0, 0, \n",
    "            0, 0, 0, 1, 0, 1, 1, 0, 0, 0, 0, 0, 0, 0, 1, 0, 0, 0, 0, 1, 0]])\n",
    "new_data1 = pd.DataFrame(new_data1, columns=bank_final1.columns[0:50])    \n",
    "new_data_scale = (new_data1.iloc[:, 0:9] - bank_scale_mean)/bank_scale_std\n",
    "\n",
    "new_data1 = pd.concat([new_data_scale, new_data1.iloc[:, 9:51]], axis=1)\n",
    "\n",
    "\n",
    "new_data2 = np.array([[25, 5, 1, 6, 0, 2, 0, 9, 4, 1.1, 93.994, -36.4, 4.857, 5191, 1, 999, 0, 1]])\n",
    "new_data2 = pd.DataFrame(new_data2, columns=X_train2.columns[0:18])\n",
    "\n",
    "\n",
    "new_data_list = [new_data1, new_data2, new_data2]\n",
    "\n",
    "y_pred, pred1, pred2 = predict_from_multiple_estimator(fitted_estimators, new_data_list)"
   ]
  },
  {
   "cell_type": "code",
   "execution_count": 51,
   "metadata": {},
   "outputs": [
    {
     "name": "stdout",
     "output_type": "stream",
     "text": [
      "Probabilità di appartenenza alle due classi per ogni modello:\n",
      "[[[0.69900722 0.30099278]]\n",
      "\n",
      " [[0.705      0.295     ]]\n",
      "\n",
      " [[0.38474621 0.61525379]]]\n",
      "\n",
      "\n",
      "Medie delle probabilità di appartenenza alle due classi\n",
      "[[0.59625114 0.40374886]]\n",
      "\n",
      "\n",
      "Classe di appartenenza predetta per l'osservazione:\n",
      "[0]\n"
     ]
    }
   ],
   "source": [
    "print('Probabilità di appartenenza alle due classi per ogni modello:')\n",
    "print(pred1)\n",
    "print('\\n')\n",
    "print('Medie delle probabilità di appartenenza alle due classi')\n",
    "print(pred2)\n",
    "print('\\n')\n",
    "print('Classe di appartenenza predetta per l\\'osservazione:')\n",
    "print(y_pred)"
   ]
  }
 ],
 "metadata": {
  "kernelspec": {
   "display_name": "Python 3",
   "language": "python",
   "name": "python3"
  },
  "language_info": {
   "codemirror_mode": {
    "name": "ipython",
    "version": 3
   },
   "file_extension": ".py",
   "mimetype": "text/x-python",
   "name": "python",
   "nbconvert_exporter": "python",
   "pygments_lexer": "ipython3",
   "version": "3.6.8"
  }
 },
 "nbformat": 4,
 "nbformat_minor": 2
}
