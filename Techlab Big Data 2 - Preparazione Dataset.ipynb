{
 "cells": [
  {
   "cell_type": "markdown",
   "metadata": {},
   "source": [
    "# TechLab Big Data - Direct Marketing"
   ]
  },
  {
   "cell_type": "markdown",
   "metadata": {},
   "source": [
    "## 2. Preparazione del Dataset"
   ]
  },
  {
   "cell_type": "markdown",
   "metadata": {},
   "source": [
    "### Import delle librerie"
   ]
  },
  {
   "cell_type": "markdown",
   "metadata": {},
   "source": [
    "Come prima cosa importiamo le librerie e i moduli che saranno necessari per l'implementazione del caso di studio. \n",
    "\n",
    "Le librerie di interesse sono: \n",
    "\n",
    "- Pandas: per la manipolazione di dati in formato sequenziale o tabellare;\n",
    "- Matplot e Seaborn: per la generazione di grafici; \n",
    "- Scikit-learn: per i modelli di Machine Learning."
   ]
  },
  {
   "cell_type": "code",
   "execution_count": 32,
   "metadata": {},
   "outputs": [],
   "source": [
    "import numpy  as np\n",
    "import pandas as pd\n",
    "import matplotlib.pyplot as plt\n",
    "import seaborn as sns\n",
    "import warnings\n",
    "import pickle\n",
    "warnings.filterwarnings('ignore')\n",
    "from inspect import signature\n",
    "%matplotlib inline\n",
    "\n",
    "from sklearn.preprocessing     import StandardScaler\n",
    "from sklearn.model_selection   import KFold, train_test_split\n",
    "from sklearn                   import metrics\n",
    "from sklearn.ensemble          import GradientBoostingClassifier\n",
    "from sklearn.svm               import SVC\n",
    "from sklearn.feature_selection import RFE, VarianceThreshold\n",
    "from sklearn.metrics           import classification_report, precision_score, recall_score, f1_score\n",
    "from sklearn                   import tree\n",
    "from sklearn.utils             import resample\n",
    "from inspect                   import signature"
   ]
  },
  {
   "cell_type": "markdown",
   "metadata": {},
   "source": [
    "Importiamo il dataset e mostriamo le prime osservazioni per capire com'è strutturato."
   ]
  },
  {
   "cell_type": "code",
   "execution_count": 33,
   "metadata": {},
   "outputs": [
    {
     "data": {
      "text/html": [
       "<div>\n",
       "<style scoped>\n",
       "    .dataframe tbody tr th:only-of-type {\n",
       "        vertical-align: middle;\n",
       "    }\n",
       "\n",
       "    .dataframe tbody tr th {\n",
       "        vertical-align: top;\n",
       "    }\n",
       "\n",
       "    .dataframe thead th {\n",
       "        text-align: right;\n",
       "    }\n",
       "</style>\n",
       "<table border=\"1\" class=\"dataframe\">\n",
       "  <thead>\n",
       "    <tr style=\"text-align: right;\">\n",
       "      <th></th>\n",
       "      <th>eta</th>\n",
       "      <th>professione</th>\n",
       "      <th>stato_civile</th>\n",
       "      <th>istruzione</th>\n",
       "      <th>default</th>\n",
       "      <th>prestito_casa</th>\n",
       "      <th>prestito_personale</th>\n",
       "      <th>mese</th>\n",
       "      <th>giorno_settimana</th>\n",
       "      <th>campagne</th>\n",
       "      <th>giorni_p</th>\n",
       "      <th>precedente</th>\n",
       "      <th>outcome_p</th>\n",
       "      <th>emp.var.rate</th>\n",
       "      <th>cons.price.idx</th>\n",
       "      <th>cons.conf.idx</th>\n",
       "      <th>euribor3m</th>\n",
       "      <th>nr.employed</th>\n",
       "      <th>y</th>\n",
       "    </tr>\n",
       "  </thead>\n",
       "  <tbody>\n",
       "    <tr>\n",
       "      <th>0</th>\n",
       "      <td>56</td>\n",
       "      <td>housemaid</td>\n",
       "      <td>married</td>\n",
       "      <td>basic.4y</td>\n",
       "      <td>no</td>\n",
       "      <td>no</td>\n",
       "      <td>no</td>\n",
       "      <td>may</td>\n",
       "      <td>mon</td>\n",
       "      <td>1</td>\n",
       "      <td>999</td>\n",
       "      <td>0</td>\n",
       "      <td>nonexistent</td>\n",
       "      <td>1.1</td>\n",
       "      <td>93.994</td>\n",
       "      <td>-36.4</td>\n",
       "      <td>4.857</td>\n",
       "      <td>5191.0</td>\n",
       "      <td>no</td>\n",
       "    </tr>\n",
       "    <tr>\n",
       "      <th>1</th>\n",
       "      <td>57</td>\n",
       "      <td>services</td>\n",
       "      <td>married</td>\n",
       "      <td>high.school</td>\n",
       "      <td>unknown</td>\n",
       "      <td>no</td>\n",
       "      <td>no</td>\n",
       "      <td>may</td>\n",
       "      <td>mon</td>\n",
       "      <td>1</td>\n",
       "      <td>999</td>\n",
       "      <td>0</td>\n",
       "      <td>nonexistent</td>\n",
       "      <td>1.1</td>\n",
       "      <td>93.994</td>\n",
       "      <td>-36.4</td>\n",
       "      <td>4.857</td>\n",
       "      <td>5191.0</td>\n",
       "      <td>no</td>\n",
       "    </tr>\n",
       "    <tr>\n",
       "      <th>2</th>\n",
       "      <td>37</td>\n",
       "      <td>services</td>\n",
       "      <td>married</td>\n",
       "      <td>high.school</td>\n",
       "      <td>no</td>\n",
       "      <td>yes</td>\n",
       "      <td>no</td>\n",
       "      <td>may</td>\n",
       "      <td>mon</td>\n",
       "      <td>1</td>\n",
       "      <td>999</td>\n",
       "      <td>0</td>\n",
       "      <td>nonexistent</td>\n",
       "      <td>1.1</td>\n",
       "      <td>93.994</td>\n",
       "      <td>-36.4</td>\n",
       "      <td>4.857</td>\n",
       "      <td>5191.0</td>\n",
       "      <td>no</td>\n",
       "    </tr>\n",
       "    <tr>\n",
       "      <th>3</th>\n",
       "      <td>40</td>\n",
       "      <td>admin.</td>\n",
       "      <td>married</td>\n",
       "      <td>basic.6y</td>\n",
       "      <td>no</td>\n",
       "      <td>no</td>\n",
       "      <td>no</td>\n",
       "      <td>may</td>\n",
       "      <td>mon</td>\n",
       "      <td>1</td>\n",
       "      <td>999</td>\n",
       "      <td>0</td>\n",
       "      <td>nonexistent</td>\n",
       "      <td>1.1</td>\n",
       "      <td>93.994</td>\n",
       "      <td>-36.4</td>\n",
       "      <td>4.857</td>\n",
       "      <td>5191.0</td>\n",
       "      <td>no</td>\n",
       "    </tr>\n",
       "    <tr>\n",
       "      <th>4</th>\n",
       "      <td>56</td>\n",
       "      <td>services</td>\n",
       "      <td>married</td>\n",
       "      <td>high.school</td>\n",
       "      <td>no</td>\n",
       "      <td>no</td>\n",
       "      <td>yes</td>\n",
       "      <td>may</td>\n",
       "      <td>mon</td>\n",
       "      <td>1</td>\n",
       "      <td>999</td>\n",
       "      <td>0</td>\n",
       "      <td>nonexistent</td>\n",
       "      <td>1.1</td>\n",
       "      <td>93.994</td>\n",
       "      <td>-36.4</td>\n",
       "      <td>4.857</td>\n",
       "      <td>5191.0</td>\n",
       "      <td>no</td>\n",
       "    </tr>\n",
       "  </tbody>\n",
       "</table>\n",
       "</div>"
      ],
      "text/plain": [
       "   eta professione stato_civile   istruzione  default prestito_casa  \\\n",
       "0   56   housemaid      married     basic.4y       no            no   \n",
       "1   57    services      married  high.school  unknown            no   \n",
       "2   37    services      married  high.school       no           yes   \n",
       "3   40      admin.      married     basic.6y       no            no   \n",
       "4   56    services      married  high.school       no            no   \n",
       "\n",
       "  prestito_personale mese giorno_settimana  campagne  giorni_p  precedente  \\\n",
       "0                 no  may              mon         1       999           0   \n",
       "1                 no  may              mon         1       999           0   \n",
       "2                 no  may              mon         1       999           0   \n",
       "3                 no  may              mon         1       999           0   \n",
       "4                yes  may              mon         1       999           0   \n",
       "\n",
       "     outcome_p  emp.var.rate  cons.price.idx  cons.conf.idx  euribor3m  \\\n",
       "0  nonexistent           1.1          93.994          -36.4      4.857   \n",
       "1  nonexistent           1.1          93.994          -36.4      4.857   \n",
       "2  nonexistent           1.1          93.994          -36.4      4.857   \n",
       "3  nonexistent           1.1          93.994          -36.4      4.857   \n",
       "4  nonexistent           1.1          93.994          -36.4      4.857   \n",
       "\n",
       "   nr.employed   y  \n",
       "0       5191.0  no  \n",
       "1       5191.0  no  \n",
       "2       5191.0  no  \n",
       "3       5191.0  no  \n",
       "4       5191.0  no  "
      ]
     },
     "execution_count": 33,
     "metadata": {},
     "output_type": "execute_result"
    }
   ],
   "source": [
    "bank = pd.read_csv('Data/campagna-target.csv', sep = ';')\n",
    "bank.head()"
   ]
  },
  {
   "cell_type": "markdown",
   "metadata": {},
   "source": [
    "### Codifica delle variabili categoriche"
   ]
  },
  {
   "cell_type": "markdown",
   "metadata": {},
   "source": [
    "Per fare in modo che le variabili vengano interpretate nel modo corretto, è necessario trasformare tutte le variabili categoriche. La trasformazione in questione è detta \"One-hot Encoding\" e viene effettuata nel modo seguente: \n",
    "\n",
    "- per ogni variabile categorica a n livelli, vengono create n-1 nuove colonne che corrispondono ai livelli; \n",
    "- le colonne sono popolate con valori 0 e 1; \n",
    "- ogni osservazione ha valore 1 nella colonna corrispondente al livello che assume l'osservazione stessa. \n",
    "\n",
    "Vengono create n-1 colonne e non una per ogni livello perchè è possibile dedurre il valore dell'n-esimo livello conoscendo gli altri n-1 valori, così facendo si eliminano problemi nell'esecuzione degli algoritmi dovuti alla collinearità delle variabili.  \n",
    "<br> \n",
    "Come esempio, analizziamo la variabile \"Stato_civile\". Questa variabile assume 4 valori distinti: married, single, divorced e unknown. Seguendo la procedura spiegata precedentemente, vengono create 4-1 colonne relative a 3 dei livelli della variabile, in questo caso: married, single e unknown. Il valore divorced viene preso come valore di riferimento e può essere dedotto dai valori che assumono le altre colonne. Per l'osservazione 10, ad esempio, il valore della variabile \"Stato_civile\" era uguale a married, quindi, viene inserito il valore 1 nella colonna stato_civile_married e 0 in tutte le altre. Analogamente, per l'osservazione 11 il valore della variabile \"Stato_civile\" era uguale a single e quindi il valore 1 è sotto la colonna stato_civile_single. Avessimo trovato un'osservazione per la quale tutti e 3 i valori di queste colonne fosse stato uguale a zero, avremmo potuto dedurre che il valore della variabile \"Stato_civile\" era divorced, in quanto è l'unica colonna mancante."
   ]
  },
  {
   "cell_type": "code",
   "execution_count": 34,
   "metadata": {},
   "outputs": [
    {
     "data": {
      "text/html": [
       "<div>\n",
       "<style scoped>\n",
       "    .dataframe tbody tr th:only-of-type {\n",
       "        vertical-align: middle;\n",
       "    }\n",
       "\n",
       "    .dataframe tbody tr th {\n",
       "        vertical-align: top;\n",
       "    }\n",
       "\n",
       "    .dataframe thead th {\n",
       "        text-align: right;\n",
       "    }\n",
       "</style>\n",
       "<table border=\"1\" class=\"dataframe\">\n",
       "  <thead>\n",
       "    <tr style=\"text-align: right;\">\n",
       "      <th></th>\n",
       "      <th>stato_civile_married</th>\n",
       "      <th>stato_civile_single</th>\n",
       "      <th>stato_civile_unknown</th>\n",
       "    </tr>\n",
       "  </thead>\n",
       "  <tbody>\n",
       "    <tr>\n",
       "      <th>10</th>\n",
       "      <td>1</td>\n",
       "      <td>0</td>\n",
       "      <td>0</td>\n",
       "    </tr>\n",
       "    <tr>\n",
       "      <th>11</th>\n",
       "      <td>0</td>\n",
       "      <td>1</td>\n",
       "      <td>0</td>\n",
       "    </tr>\n",
       "    <tr>\n",
       "      <th>12</th>\n",
       "      <td>0</td>\n",
       "      <td>1</td>\n",
       "      <td>0</td>\n",
       "    </tr>\n",
       "    <tr>\n",
       "      <th>13</th>\n",
       "      <td>0</td>\n",
       "      <td>0</td>\n",
       "      <td>0</td>\n",
       "    </tr>\n",
       "    <tr>\n",
       "      <th>14</th>\n",
       "      <td>1</td>\n",
       "      <td>0</td>\n",
       "      <td>0</td>\n",
       "    </tr>\n",
       "    <tr>\n",
       "      <th>15</th>\n",
       "      <td>1</td>\n",
       "      <td>0</td>\n",
       "      <td>0</td>\n",
       "    </tr>\n",
       "  </tbody>\n",
       "</table>\n",
       "</div>"
      ],
      "text/plain": [
       "    stato_civile_married  stato_civile_single  stato_civile_unknown\n",
       "10                     1                    0                     0\n",
       "11                     0                    1                     0\n",
       "12                     0                    1                     0\n",
       "13                     0                    0                     0\n",
       "14                     1                    0                     0\n",
       "15                     1                    0                     0"
      ]
     },
     "execution_count": 34,
     "metadata": {},
     "output_type": "execute_result"
    }
   ],
   "source": [
    "bank_final = pd.get_dummies(bank.drop('y', axis=1), drop_first= True)\n",
    "bank_final.iloc[10:16, 19:22]"
   ]
  },
  {
   "cell_type": "markdown",
   "metadata": {},
   "source": [
    "La variabile target è anch'essa una variabile categorica. In questo caso si tratta di una variabile binaria quindi non è necessaria la creazione di altre colonne e i suoi valori di partenza verranno ricodificati in 0 e 1, dove 1 equivale a \"yes\" e 0 a \"no\". "
   ]
  },
  {
   "cell_type": "code",
   "execution_count": 35,
   "metadata": {},
   "outputs": [
    {
     "data": {
      "text/html": [
       "<div>\n",
       "<style scoped>\n",
       "    .dataframe tbody tr th:only-of-type {\n",
       "        vertical-align: middle;\n",
       "    }\n",
       "\n",
       "    .dataframe tbody tr th {\n",
       "        vertical-align: top;\n",
       "    }\n",
       "\n",
       "    .dataframe thead th {\n",
       "        text-align: right;\n",
       "    }\n",
       "</style>\n",
       "<table border=\"1\" class=\"dataframe\">\n",
       "  <thead>\n",
       "    <tr style=\"text-align: right;\">\n",
       "      <th></th>\n",
       "      <th>yes</th>\n",
       "    </tr>\n",
       "  </thead>\n",
       "  <tbody>\n",
       "    <tr>\n",
       "      <th>39000</th>\n",
       "      <td>1</td>\n",
       "    </tr>\n",
       "    <tr>\n",
       "      <th>39001</th>\n",
       "      <td>1</td>\n",
       "    </tr>\n",
       "    <tr>\n",
       "      <th>39002</th>\n",
       "      <td>0</td>\n",
       "    </tr>\n",
       "    <tr>\n",
       "      <th>39003</th>\n",
       "      <td>1</td>\n",
       "    </tr>\n",
       "    <tr>\n",
       "      <th>39004</th>\n",
       "      <td>1</td>\n",
       "    </tr>\n",
       "    <tr>\n",
       "      <th>39005</th>\n",
       "      <td>1</td>\n",
       "    </tr>\n",
       "    <tr>\n",
       "      <th>39006</th>\n",
       "      <td>0</td>\n",
       "    </tr>\n",
       "    <tr>\n",
       "      <th>39007</th>\n",
       "      <td>1</td>\n",
       "    </tr>\n",
       "    <tr>\n",
       "      <th>39008</th>\n",
       "      <td>1</td>\n",
       "    </tr>\n",
       "    <tr>\n",
       "      <th>39009</th>\n",
       "      <td>1</td>\n",
       "    </tr>\n",
       "    <tr>\n",
       "      <th>39010</th>\n",
       "      <td>1</td>\n",
       "    </tr>\n",
       "  </tbody>\n",
       "</table>\n",
       "</div>"
      ],
      "text/plain": [
       "       yes\n",
       "39000    1\n",
       "39001    1\n",
       "39002    0\n",
       "39003    1\n",
       "39004    1\n",
       "39005    1\n",
       "39006    0\n",
       "39007    1\n",
       "39008    1\n",
       "39009    1\n",
       "39010    1"
      ]
     },
     "execution_count": 35,
     "metadata": {},
     "output_type": "execute_result"
    }
   ],
   "source": [
    "y = pd.get_dummies(bank['y'], columns = ['y'], drop_first = True)\n",
    "y[39000:39011]"
   ]
  },
  {
   "cell_type": "markdown",
   "metadata": {},
   "source": [
    "### Codifica delle variabili numeriche"
   ]
  },
  {
   "cell_type": "markdown",
   "metadata": {},
   "source": [
    "Anche per le varibili numeriche è necessario applicare una trasformazione: bisogna standardizzare i loro valori rispetto alla media e la deviazione standard dell'intera colonna. Anche questa trasformazione viene effettuta per migliorare le performance degli algoritmi che verranno utilizzati in seguito. \n",
    "<br>\n",
    "Infine, concatenando l'insieme della varibili dipendenti e la variabile target, otteniamo così il dataset finale. \n"
   ]
  },
  {
   "cell_type": "code",
   "execution_count": 36,
   "metadata": {},
   "outputs": [
    {
     "data": {
      "text/html": [
       "<div>\n",
       "<style scoped>\n",
       "    .dataframe tbody tr th:only-of-type {\n",
       "        vertical-align: middle;\n",
       "    }\n",
       "\n",
       "    .dataframe tbody tr th {\n",
       "        vertical-align: top;\n",
       "    }\n",
       "\n",
       "    .dataframe thead th {\n",
       "        text-align: right;\n",
       "    }\n",
       "</style>\n",
       "<table border=\"1\" class=\"dataframe\">\n",
       "  <thead>\n",
       "    <tr style=\"text-align: right;\">\n",
       "      <th></th>\n",
       "      <th>eta</th>\n",
       "      <th>campagne</th>\n",
       "      <th>giorni_p</th>\n",
       "      <th>precedente</th>\n",
       "      <th>emp.var.rate</th>\n",
       "      <th>cons.price.idx</th>\n",
       "      <th>cons.conf.idx</th>\n",
       "      <th>euribor3m</th>\n",
       "      <th>nr.employed</th>\n",
       "      <th>professione_blue-collar</th>\n",
       "      <th>...</th>\n",
       "      <th>mese_nov</th>\n",
       "      <th>mese_oct</th>\n",
       "      <th>mese_sep</th>\n",
       "      <th>giorno_settimana_mon</th>\n",
       "      <th>giorno_settimana_thu</th>\n",
       "      <th>giorno_settimana_tue</th>\n",
       "      <th>giorno_settimana_wed</th>\n",
       "      <th>outcome_p_nonexistent</th>\n",
       "      <th>outcome_p_success</th>\n",
       "      <th>yes</th>\n",
       "    </tr>\n",
       "  </thead>\n",
       "  <tbody>\n",
       "    <tr>\n",
       "      <th>0</th>\n",
       "      <td>1.820649</td>\n",
       "      <td>-0.568525</td>\n",
       "      <td>0.187468</td>\n",
       "      <td>-0.344607</td>\n",
       "      <td>0.635621</td>\n",
       "      <td>0.720971</td>\n",
       "      <td>0.921994</td>\n",
       "      <td>0.699023</td>\n",
       "      <td>0.312057</td>\n",
       "      <td>0</td>\n",
       "      <td>...</td>\n",
       "      <td>0</td>\n",
       "      <td>0</td>\n",
       "      <td>0</td>\n",
       "      <td>1</td>\n",
       "      <td>0</td>\n",
       "      <td>0</td>\n",
       "      <td>0</td>\n",
       "      <td>1</td>\n",
       "      <td>0</td>\n",
       "      <td>0</td>\n",
       "    </tr>\n",
       "    <tr>\n",
       "      <th>1</th>\n",
       "      <td>1.928158</td>\n",
       "      <td>-0.568525</td>\n",
       "      <td>0.187468</td>\n",
       "      <td>-0.344607</td>\n",
       "      <td>0.635621</td>\n",
       "      <td>0.720971</td>\n",
       "      <td>0.921994</td>\n",
       "      <td>0.699023</td>\n",
       "      <td>0.312057</td>\n",
       "      <td>0</td>\n",
       "      <td>...</td>\n",
       "      <td>0</td>\n",
       "      <td>0</td>\n",
       "      <td>0</td>\n",
       "      <td>1</td>\n",
       "      <td>0</td>\n",
       "      <td>0</td>\n",
       "      <td>0</td>\n",
       "      <td>1</td>\n",
       "      <td>0</td>\n",
       "      <td>0</td>\n",
       "    </tr>\n",
       "    <tr>\n",
       "      <th>2</th>\n",
       "      <td>-0.222024</td>\n",
       "      <td>-0.568525</td>\n",
       "      <td>0.187468</td>\n",
       "      <td>-0.344607</td>\n",
       "      <td>0.635621</td>\n",
       "      <td>0.720971</td>\n",
       "      <td>0.921994</td>\n",
       "      <td>0.699023</td>\n",
       "      <td>0.312057</td>\n",
       "      <td>0</td>\n",
       "      <td>...</td>\n",
       "      <td>0</td>\n",
       "      <td>0</td>\n",
       "      <td>0</td>\n",
       "      <td>1</td>\n",
       "      <td>0</td>\n",
       "      <td>0</td>\n",
       "      <td>0</td>\n",
       "      <td>1</td>\n",
       "      <td>0</td>\n",
       "      <td>0</td>\n",
       "    </tr>\n",
       "    <tr>\n",
       "      <th>3</th>\n",
       "      <td>0.100503</td>\n",
       "      <td>-0.568525</td>\n",
       "      <td>0.187468</td>\n",
       "      <td>-0.344607</td>\n",
       "      <td>0.635621</td>\n",
       "      <td>0.720971</td>\n",
       "      <td>0.921994</td>\n",
       "      <td>0.699023</td>\n",
       "      <td>0.312057</td>\n",
       "      <td>0</td>\n",
       "      <td>...</td>\n",
       "      <td>0</td>\n",
       "      <td>0</td>\n",
       "      <td>0</td>\n",
       "      <td>1</td>\n",
       "      <td>0</td>\n",
       "      <td>0</td>\n",
       "      <td>0</td>\n",
       "      <td>1</td>\n",
       "      <td>0</td>\n",
       "      <td>0</td>\n",
       "    </tr>\n",
       "    <tr>\n",
       "      <th>4</th>\n",
       "      <td>1.820649</td>\n",
       "      <td>-0.568525</td>\n",
       "      <td>0.187468</td>\n",
       "      <td>-0.344607</td>\n",
       "      <td>0.635621</td>\n",
       "      <td>0.720971</td>\n",
       "      <td>0.921994</td>\n",
       "      <td>0.699023</td>\n",
       "      <td>0.312057</td>\n",
       "      <td>0</td>\n",
       "      <td>...</td>\n",
       "      <td>0</td>\n",
       "      <td>0</td>\n",
       "      <td>0</td>\n",
       "      <td>1</td>\n",
       "      <td>0</td>\n",
       "      <td>0</td>\n",
       "      <td>0</td>\n",
       "      <td>1</td>\n",
       "      <td>0</td>\n",
       "      <td>0</td>\n",
       "    </tr>\n",
       "  </tbody>\n",
       "</table>\n",
       "<p>5 rows × 51 columns</p>\n",
       "</div>"
      ],
      "text/plain": [
       "        eta  campagne  giorni_p  precedente  emp.var.rate  cons.price.idx  \\\n",
       "0  1.820649 -0.568525  0.187468   -0.344607      0.635621        0.720971   \n",
       "1  1.928158 -0.568525  0.187468   -0.344607      0.635621        0.720971   \n",
       "2 -0.222024 -0.568525  0.187468   -0.344607      0.635621        0.720971   \n",
       "3  0.100503 -0.568525  0.187468   -0.344607      0.635621        0.720971   \n",
       "4  1.820649 -0.568525  0.187468   -0.344607      0.635621        0.720971   \n",
       "\n",
       "   cons.conf.idx  euribor3m  nr.employed  professione_blue-collar  ...  \\\n",
       "0       0.921994   0.699023     0.312057                        0  ...   \n",
       "1       0.921994   0.699023     0.312057                        0  ...   \n",
       "2       0.921994   0.699023     0.312057                        0  ...   \n",
       "3       0.921994   0.699023     0.312057                        0  ...   \n",
       "4       0.921994   0.699023     0.312057                        0  ...   \n",
       "\n",
       "   mese_nov  mese_oct  mese_sep  giorno_settimana_mon  giorno_settimana_thu  \\\n",
       "0         0         0         0                     1                     0   \n",
       "1         0         0         0                     1                     0   \n",
       "2         0         0         0                     1                     0   \n",
       "3         0         0         0                     1                     0   \n",
       "4         0         0         0                     1                     0   \n",
       "\n",
       "   giorno_settimana_tue  giorno_settimana_wed  outcome_p_nonexistent  \\\n",
       "0                     0                     0                      1   \n",
       "1                     0                     0                      1   \n",
       "2                     0                     0                      1   \n",
       "3                     0                     0                      1   \n",
       "4                     0                     0                      1   \n",
       "\n",
       "   outcome_p_success  yes  \n",
       "0                  0    0  \n",
       "1                  0    0  \n",
       "2                  0    0  \n",
       "3                  0    0  \n",
       "4                  0    0  \n",
       "\n",
       "[5 rows x 51 columns]"
      ]
     },
     "execution_count": 36,
     "metadata": {},
     "output_type": "execute_result"
    }
   ],
   "source": [
    "bank_final1 = pd.concat([bank_final, y], axis = 1)\n",
    "bank_scale_col = bank_final1.columns[0:9]\n",
    "\n",
    "bank_scale_mean =  bank_final1.iloc[:, 0:9].mean()\n",
    "bank_scale_std =  bank_final1.iloc[:, 0:9].std()\n",
    "\n",
    "sc_bank = StandardScaler()\n",
    "bank_scale = pd.DataFrame(sc_bank.fit_transform(X=bank_final1[['eta', 'campagne', 'giorni_p', 'precedente', 'emp.var.rate',\n",
    "                                           'cons.price.idx','cons.conf.idx', 'euribor3m','nr.employed']]) ,\n",
    "                         columns = bank_scale_col)\n",
    "\n",
    "bank_dummy = bank_final1.iloc[:, 9:]\n",
    "bank_final1 = pd.concat([bank_scale, bank_dummy], axis=1)\n",
    "bank_final1.head()"
   ]
  },
  {
   "cell_type": "markdown",
   "metadata": {},
   "source": [
    "### Training e Test Set"
   ]
  },
  {
   "cell_type": "markdown",
   "metadata": {},
   "source": [
    "Il primo step per l'implementazione di un algoritmo di Machine Learning, è la suddivisione del dataset a disposizione in training e test set. Le osservazioni appartenenti al primo set verranno utilizzate per trainare il modello vero e proprio, mentre quelle del secondo set verranno utilizzate per controllare la qualità del modello creato a partire dal training set. \n",
    "<br> Normalmente il dataset iniziale viene suddiviso nel modo seguente: \n",
    "- 70-75% dei dati viene utilizzato per il Training Set;\n",
    "- 30-25% dei dati viene utilizzato per il Test Set. \n",
    "\n",
    "In aggiunta, utilizziamo una tecnica di validazione chiamata Cross-Validation per ottenere una migliore stima dell'accuratezza del modello. In particolare, il metodo utilizzato è il k-fold. Il dataset iniziale viene suddiviso in k sottoinsiemi della stessa dimensione di cui k-1 vengono utilizzati come Training Set e 1 come Test Set. Il processo viene poi iterato k volte in modo tale che ogni sottoinsieme venga utilizzato esattamente una volta come Test Set. Si può quindi fare una media dei k valori ottenuti da ogni singola iterazione per avere una stima più precisa dell'accuratezza del modello.   "
   ]
  },
  {
   "cell_type": "code",
   "execution_count": 37,
   "metadata": {},
   "outputs": [
    {
     "name": "stdout",
     "output_type": "stream",
     "text": [
      "Osservazioni del Training Set:  29601\n",
      "Osservazioni del Test Set:      9867\n",
      "Percentuale Training Set rispetto al totale:  75.0 %\n"
     ]
    }
   ],
   "source": [
    "X_train, X_test, y_train, y_test = train_test_split(bank_final1.drop('yes', axis = 1), \n",
    "                                                    bank_final1['yes'], test_size = 0.25, random_state = 101)\n",
    "\n",
    "k_fold = KFold(n_splits=10, shuffle=True, random_state=0)\n",
    "\n",
    "print('Osservazioni del Training Set: ',len(X_train))\n",
    "print('Osservazioni del Test Set:     ',len(X_test))\n",
    "print('Percentuale Training Set rispetto al totale: ', round((len(X_train)/len(bank_final1))*100,2), '%')"
   ]
  },
  {
   "cell_type": "markdown",
   "metadata": {},
   "source": [
    "### Dataset non bilanciato e Upsampling"
   ]
  },
  {
   "cell_type": "markdown",
   "metadata": {},
   "source": [
    "Il dataset risulta essere sbilanciato in quanto le frequenze dei valori assunti dalla variabile target sono molto diverse tra loro. Infatti il numero di risposte positive risulta essere molto minore rispetto alle risposte negative."
   ]
  },
  {
   "cell_type": "code",
   "execution_count": 38,
   "metadata": {},
   "outputs": [
    {
     "data": {
      "image/png": "[encoded data removed]",
      "text/plain": [
       "<Figure size 432x288 with 1 Axes>"
      ]
     },
     "metadata": {},
     "output_type": "display_data"
    },
    {
     "name": "stdout",
     "output_type": "stream",
     "text": [
      "Percentuale della classe in minoranza rispetto al totale:  10.66 %\n"
     ]
    }
   ],
   "source": [
    "fig, ax = plt.subplots()\n",
    "frequency = bank_final1['yes'].value_counts()\n",
    "ax.pie(frequency,\n",
    "            labels = ['No', 'Yes'])\n",
    "ax.set(title = 'Frequenze delle due Classi')\n",
    "plt.show()\n",
    "\n",
    "print('Percentuale della classe in minoranza rispetto al totale: ',round((len(bank_final1[bank_final1['yes'] == 1])/len(bank_final1))*100,2),'%')"
   ]
  },
  {
   "cell_type": "markdown",
   "metadata": {},
   "source": [
    "Anche considerando soltanto le osservazioni presenti nel Training Set, si continua a constatare un disequilibrio della stessa percentuale tra le due classi. "
   ]
  },
  {
   "cell_type": "code",
   "execution_count": 39,
   "metadata": {},
   "outputs": [
    {
     "data": {
      "image/png": "[encoded data removed]",
      "text/plain": [
       "<Figure size 432x288 with 1 Axes>"
      ]
     },
     "metadata": {
      "needs_background": "light"
     },
     "output_type": "display_data"
    },
    {
     "name": "stdout",
     "output_type": "stream",
     "text": [
      "Percentuale della classe in minoranza rispetto al totale:  10.6 %\n"
     ]
    }
   ],
   "source": [
    "ax = sns.countplot(x=y_train)\n",
    "plt.show()\n",
    "\n",
    "print('Percentuale della classe in minoranza rispetto al totale: ',round((len(y_train[y_train == 1])/len(y_train))*100,2),'%')"
   ]
  },
  {
   "cell_type": "markdown",
   "metadata": {},
   "source": [
    "Per migliorare questa situazione, che potrebbe portare alla formulazione di modelli di accuratezza ridotta, si può ricorre a varie tecniche di ricampionamento del dataset.\n",
    "<br> In questo caso useremo la tecnica nota come Upsampling del Training Set per creare classi più bilanciate. \n",
    "Per aumentare il numero di osservazioni della classe in difetto, nel nostro caso quella con y = 'yes', effettuiamo un campionamento con reinserimento dalla classe in minoranza per raddoppiare il numero di osservazioni appartenenti a questa categoria."
   ]
  },
  {
   "cell_type": "code",
   "execution_count": 40,
   "metadata": {},
   "outputs": [
    {
     "data": {
      "image/png": "[encoded data removed]",
      "text/plain": [
       "<Figure size 432x288 with 1 Axes>"
      ]
     },
     "metadata": {
      "needs_background": "light"
     },
     "output_type": "display_data"
    },
    {
     "name": "stdout",
     "output_type": "stream",
     "text": [
      "Percentuale della classe in minoranza rispetto al totale:  19.18 %\n"
     ]
    }
   ],
   "source": [
    "df_total = pd.concat([X_train, y_train], axis=1)\n",
    "\n",
    "df_majority = df_total[df_total['yes'] == 0]\n",
    "df_minority = df_total[df_total['yes'] == 1]\n",
    "\n",
    "df_minority_upsampled = resample(df_minority, \n",
    "                                 replace=True,    \n",
    "                                 n_samples= int(3139*2),\n",
    "                                 random_state=123) \n",
    "\n",
    "\n",
    "df_upsampled = pd.concat([df_majority, df_minority_upsampled])\n",
    "y_new = df_upsampled['yes']\n",
    "\n",
    "ax = sns.countplot(x='yes', data = df_upsampled)\n",
    "ax.set_xlabel('y')\n",
    "plt.show()\n",
    "\n",
    "print('Percentuale della classe in minoranza rispetto al totale: ',round((len(df_upsampled[df_upsampled['yes'] == 1])/len(df_upsampled))*100,2),'%')\n",
    "\n",
    "X_train = df_upsampled.drop('yes', axis=1)\n",
    "y_train = df_upsampled['yes']"
   ]
  },
  {
   "cell_type": "markdown",
   "metadata": {},
   "source": [
    "Ora che i dati sono pronti, possiamo passare alla formulazione effettiva dei modelli che potranno esserci utili a raggiungere l'obiettivo. "
   ]
  },
  {
   "cell_type": "markdown",
   "metadata": {},
   "source": [
    "Esportiamo le variabili di interesse che abbiamo formulato fino ad ora in modo da poterle utilizzare nei notebook successivi."
   ]
  },
  {
   "cell_type": "code",
   "execution_count": 41,
   "metadata": {},
   "outputs": [],
   "source": [
    "with open(\"Data/X_train.pickle\",\"wb\") as f:\n",
    "        pickle.dump(X_train, f)\n",
    "with open(\"Data/y_train.pickle\",\"wb\") as d:\n",
    "        pickle.dump(y_train, d)\n",
    "with open(\"Data/X_test.pickle\",\"wb\") as g:\n",
    "        pickle.dump(X_test, g)\n",
    "with open(\"Data/y_test.pickle\",\"wb\") as h:\n",
    "        pickle.dump(y_test, h)\n",
    "with open(\"Data/bank_final1.pickle\",\"wb\") as i:\n",
    "        pickle.dump(bank_final1, i)\n",
    "with open(\"Data/k_fold.pickle\",\"wb\") as j:\n",
    "        pickle.dump(k_fold, j)\n",
    "with open(\"Data/bank_scale_std.pickle\",\"wb\") as k:\n",
    "        pickle.dump(bank_scale_std, k)\n",
    "with open(\"Data/bank_scale_mean.pickle\",\"wb\") as l:\n",
    "        pickle.dump(bank_scale_mean, l)"
   ]
  },
  {
   "cell_type": "code",
   "execution_count": null,
   "metadata": {},
   "outputs": [],
   "source": []
  }
 ],
 "metadata": {
  "kernelspec": {
   "display_name": "Python 3",
   "language": "python",
   "name": "python3"
  },
  "language_info": {
   "codemirror_mode": {
    "name": "ipython",
    "version": 3
   },
   "file_extension": ".py",
   "mimetype": "text/x-python",
   "name": "python",
   "nbconvert_exporter": "python",
   "pygments_lexer": "ipython3",
   "version": "3.6.8"
  }
 },
 "nbformat": 4,
 "nbformat_minor": 2
}
