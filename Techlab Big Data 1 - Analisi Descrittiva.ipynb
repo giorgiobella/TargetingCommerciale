{
 "cells": [
  {
   "cell_type": "markdown",
   "metadata": {},
   "source": [
    "# TechLab Big Data - Direct Marketing"
   ]
  },
  {
   "cell_type": "markdown",
   "metadata": {},
   "source": [
    "## 1. Analisi descrittiva e esplorativa"
   ]
  },
  {
   "cell_type": "markdown",
   "metadata": {},
   "source": [
    "### Import delle librerie"
   ]
  },
  {
   "cell_type": "markdown",
   "metadata": {},
   "source": [
    "Come prima cosa importiamo le librerie e i moduli che saranno necessarie per l'implementazione del caso di studio. \n",
    "\n",
    "Le librerie di interesse sono: \n",
    "\n",
    "- Pandas: per la manipolazione di dati in formato sequenziale o tabellare;\n",
    "- Matplot e Seaborn: per la generazione di grafici; \n",
    "- Scikit-learn: per i modelli di Machine Learning."
   ]
  },
  {
   "cell_type": "code",
   "execution_count": 1,
   "metadata": {},
   "outputs": [],
   "source": [
    "import numpy  as np\n",
    "import pandas as pd\n",
    "import matplotlib.pyplot as plt\n",
    "import seaborn as sns\n",
    "import warnings\n",
    "warnings.filterwarnings('ignore')\n",
    "from inspect import signature\n",
    "%matplotlib inline\n",
    "\n",
    "from sklearn.preprocessing     import StandardScaler\n",
    "from sklearn.model_selection   import KFold\n",
    "from sklearn                   import metrics\n",
    "from sklearn.ensemble          import GradientBoostingClassifier\n",
    "from sklearn.svm               import SVC\n",
    "from sklearn.feature_selection import RFE, VarianceThreshold\n",
    "from sklearn.metrics           import classification_report, precision_score, recall_score, f1_score\n",
    "from sklearn                   import tree\n",
    "from inspect                   import signature"
   ]
  },
  {
   "cell_type": "markdown",
   "metadata": {},
   "source": [
    "### Informazioni del Dataset"
   ]
  },
  {
   "cell_type": "markdown",
   "metadata": {},
   "source": [
    "Importiamo il dataset e mostriamo le prime osservazioni per capire com'è strutturato."
   ]
  },
  {
   "cell_type": "code",
   "execution_count": 2,
   "metadata": {},
   "outputs": [
    {
     "data": {
      "text/html": [
       "<div>\n",
       "<style scoped>\n",
       "    .dataframe tbody tr th:only-of-type {\n",
       "        vertical-align: middle;\n",
       "    }\n",
       "\n",
       "    .dataframe tbody tr th {\n",
       "        vertical-align: top;\n",
       "    }\n",
       "\n",
       "    .dataframe thead th {\n",
       "        text-align: right;\n",
       "    }\n",
       "</style>\n",
       "<table border=\"1\" class=\"dataframe\">\n",
       "  <thead>\n",
       "    <tr style=\"text-align: right;\">\n",
       "      <th></th>\n",
       "      <th>eta</th>\n",
       "      <th>professione</th>\n",
       "      <th>stato_civile</th>\n",
       "      <th>istruzione</th>\n",
       "      <th>default</th>\n",
       "      <th>prestito_casa</th>\n",
       "      <th>prestito_personale</th>\n",
       "      <th>mese</th>\n",
       "      <th>giorno_settimana</th>\n",
       "      <th>campagne</th>\n",
       "      <th>giorni_p</th>\n",
       "      <th>precedente</th>\n",
       "      <th>outcome_p</th>\n",
       "      <th>emp.var.rate</th>\n",
       "      <th>cons.price.idx</th>\n",
       "      <th>cons.conf.idx</th>\n",
       "      <th>euribor3m</th>\n",
       "      <th>nr.employed</th>\n",
       "      <th>y</th>\n",
       "    </tr>\n",
       "  </thead>\n",
       "  <tbody>\n",
       "    <tr>\n",
       "      <th>0</th>\n",
       "      <td>56</td>\n",
       "      <td>housemaid</td>\n",
       "      <td>married</td>\n",
       "      <td>basic.4y</td>\n",
       "      <td>no</td>\n",
       "      <td>no</td>\n",
       "      <td>no</td>\n",
       "      <td>may</td>\n",
       "      <td>mon</td>\n",
       "      <td>1</td>\n",
       "      <td>999</td>\n",
       "      <td>0</td>\n",
       "      <td>nonexistent</td>\n",
       "      <td>1.1</td>\n",
       "      <td>93.994</td>\n",
       "      <td>-36.4</td>\n",
       "      <td>4.857</td>\n",
       "      <td>5191.0</td>\n",
       "      <td>no</td>\n",
       "    </tr>\n",
       "    <tr>\n",
       "      <th>1</th>\n",
       "      <td>57</td>\n",
       "      <td>services</td>\n",
       "      <td>married</td>\n",
       "      <td>high.school</td>\n",
       "      <td>unknown</td>\n",
       "      <td>no</td>\n",
       "      <td>no</td>\n",
       "      <td>may</td>\n",
       "      <td>mon</td>\n",
       "      <td>1</td>\n",
       "      <td>999</td>\n",
       "      <td>0</td>\n",
       "      <td>nonexistent</td>\n",
       "      <td>1.1</td>\n",
       "      <td>93.994</td>\n",
       "      <td>-36.4</td>\n",
       "      <td>4.857</td>\n",
       "      <td>5191.0</td>\n",
       "      <td>no</td>\n",
       "    </tr>\n",
       "    <tr>\n",
       "      <th>2</th>\n",
       "      <td>37</td>\n",
       "      <td>services</td>\n",
       "      <td>married</td>\n",
       "      <td>high.school</td>\n",
       "      <td>no</td>\n",
       "      <td>yes</td>\n",
       "      <td>no</td>\n",
       "      <td>may</td>\n",
       "      <td>mon</td>\n",
       "      <td>1</td>\n",
       "      <td>999</td>\n",
       "      <td>0</td>\n",
       "      <td>nonexistent</td>\n",
       "      <td>1.1</td>\n",
       "      <td>93.994</td>\n",
       "      <td>-36.4</td>\n",
       "      <td>4.857</td>\n",
       "      <td>5191.0</td>\n",
       "      <td>no</td>\n",
       "    </tr>\n",
       "    <tr>\n",
       "      <th>3</th>\n",
       "      <td>40</td>\n",
       "      <td>admin.</td>\n",
       "      <td>married</td>\n",
       "      <td>basic.6y</td>\n",
       "      <td>no</td>\n",
       "      <td>no</td>\n",
       "      <td>no</td>\n",
       "      <td>may</td>\n",
       "      <td>mon</td>\n",
       "      <td>1</td>\n",
       "      <td>999</td>\n",
       "      <td>0</td>\n",
       "      <td>nonexistent</td>\n",
       "      <td>1.1</td>\n",
       "      <td>93.994</td>\n",
       "      <td>-36.4</td>\n",
       "      <td>4.857</td>\n",
       "      <td>5191.0</td>\n",
       "      <td>no</td>\n",
       "    </tr>\n",
       "    <tr>\n",
       "      <th>4</th>\n",
       "      <td>56</td>\n",
       "      <td>services</td>\n",
       "      <td>married</td>\n",
       "      <td>high.school</td>\n",
       "      <td>no</td>\n",
       "      <td>no</td>\n",
       "      <td>yes</td>\n",
       "      <td>may</td>\n",
       "      <td>mon</td>\n",
       "      <td>1</td>\n",
       "      <td>999</td>\n",
       "      <td>0</td>\n",
       "      <td>nonexistent</td>\n",
       "      <td>1.1</td>\n",
       "      <td>93.994</td>\n",
       "      <td>-36.4</td>\n",
       "      <td>4.857</td>\n",
       "      <td>5191.0</td>\n",
       "      <td>no</td>\n",
       "    </tr>\n",
       "  </tbody>\n",
       "</table>\n",
       "</div>"
      ],
      "text/plain": [
       "   eta professione stato_civile   istruzione  default prestito_casa  \\\n",
       "0   56   housemaid      married     basic.4y       no            no   \n",
       "1   57    services      married  high.school  unknown            no   \n",
       "2   37    services      married  high.school       no           yes   \n",
       "3   40      admin.      married     basic.6y       no            no   \n",
       "4   56    services      married  high.school       no            no   \n",
       "\n",
       "  prestito_personale mese giorno_settimana  campagne  giorni_p  precedente  \\\n",
       "0                 no  may              mon         1       999           0   \n",
       "1                 no  may              mon         1       999           0   \n",
       "2                 no  may              mon         1       999           0   \n",
       "3                 no  may              mon         1       999           0   \n",
       "4                yes  may              mon         1       999           0   \n",
       "\n",
       "     outcome_p  emp.var.rate  cons.price.idx  cons.conf.idx  euribor3m  \\\n",
       "0  nonexistent           1.1          93.994          -36.4      4.857   \n",
       "1  nonexistent           1.1          93.994          -36.4      4.857   \n",
       "2  nonexistent           1.1          93.994          -36.4      4.857   \n",
       "3  nonexistent           1.1          93.994          -36.4      4.857   \n",
       "4  nonexistent           1.1          93.994          -36.4      4.857   \n",
       "\n",
       "   nr.employed   y  \n",
       "0       5191.0  no  \n",
       "1       5191.0  no  \n",
       "2       5191.0  no  \n",
       "3       5191.0  no  \n",
       "4       5191.0  no  "
      ]
     },
     "execution_count": 2,
     "metadata": {},
     "output_type": "execute_result"
    }
   ],
   "source": [
    "bank = pd.read_csv('Data/campagna-target.csv', sep = ';')\n",
    "bank.head()"
   ]
  },
  {
   "cell_type": "markdown",
   "metadata": {},
   "source": [
    "Il dataset in questione è costituito da 39468 osservazioni, per ognuna delle quali sono stati registrati i valori di 19 variabili. "
   ]
  },
  {
   "cell_type": "code",
   "execution_count": 3,
   "metadata": {},
   "outputs": [
    {
     "name": "stdout",
     "output_type": "stream",
     "text": [
      "Numero righe:     39468\n",
      "Numero colonne:    19\n"
     ]
    }
   ],
   "source": [
    "print(\"Numero righe:    \", bank.shape[0])\n",
    "print(\"Numero colonne:   \", bank.shape[1])"
   ]
  },
  {
   "cell_type": "markdown",
   "metadata": {},
   "source": [
    "Le 18 variabili indipendenti riguardano informazioni relative al cliente, alla campagna pubblicitaria e alcuni indici socio-economici. \n",
    "<br>\n",
    "Nel dettaglio: \n",
    "\n",
    "- Età: età del cliente;\n",
    "- Professione: tipo di lavoro del cliente;\n",
    "- Stato_civile: stato civile del cliente;\n",
    "- Istruzione: livello di educazione del cliente;\n",
    "- Default: se il cliente ha o non ha crediti in default;\n",
    "- Prestito_casa: se il cliente ha o non ha un mutuo sulla casa in essere;\n",
    "- Prestito_personale: se il cliente ha o non ha un mutuo personale;\n",
    "- Mese: mese in cui ha avuto luogo la campagna pubblicitaria;\n",
    "- Giorno_settimana: giorno della settimana in cui ha avuto luogo la campagna pubblicitaria;\n",
    "- Campagne: numero di volte in cui il cliente è stato esposto alla campagna pubblicitaria in corso;\n",
    "- Giorni_p: numero di giorni passati dall'ultima volta in cui il cliente è stato esposto ad una campagna pubblicitaria precedente;\n",
    "- Precedente: numero di volte in cui il cliente è stato esposto a campagne pubblicitarie precedenti;\n",
    "- Outcome_p: risultato della campagna precedente; \n",
    "- Emp.var.rate: tasso di variazione dell'occupazione;\n",
    "- Cons.price.idx: indice dei prezzi al consumo;\n",
    "- Cons.conf.idx: indice di fiducia dei consumatori;\n",
    "- Euribor3m: tasso euribor a 3 mesi;\n",
    "- Nr.employed: numero di dipendenti (migliaia). \n",
    "\n",
    "La variabile target y assume valori binari Sì/No se il cliente ha sottoscritto o meno il prodotto o servizio presente nella campagna pubblicitaria corrente. "
   ]
  },
  {
   "cell_type": "code",
   "execution_count": 4,
   "metadata": {},
   "outputs": [
    {
     "data": {
      "text/plain": [
       "['eta',\n",
       " 'professione',\n",
       " 'stato_civile',\n",
       " 'istruzione',\n",
       " 'default',\n",
       " 'prestito_casa',\n",
       " 'prestito_personale',\n",
       " 'mese',\n",
       " 'giorno_settimana',\n",
       " 'campagne',\n",
       " 'giorni_p',\n",
       " 'precedente',\n",
       " 'outcome_p',\n",
       " 'emp.var.rate',\n",
       " 'cons.price.idx',\n",
       " 'cons.conf.idx',\n",
       " 'euribor3m',\n",
       " 'nr.employed',\n",
       " 'y']"
      ]
     },
     "execution_count": 4,
     "metadata": {},
     "output_type": "execute_result"
    }
   ],
   "source": [
    "list(bank.columns)"
   ]
  },
  {
   "cell_type": "markdown",
   "metadata": {},
   "source": [
    "Controlliamo se nel dataset sono presenti osservazioni con valori mancanti per qualche variabile. <br> In questo caso, non risultano esserci missing values in nessuna delle colonne. "
   ]
  },
  {
   "cell_type": "code",
   "execution_count": 5,
   "metadata": {},
   "outputs": [
    {
     "data": {
      "text/plain": [
       "eta                   0\n",
       "professione           0\n",
       "stato_civile          0\n",
       "istruzione            0\n",
       "default               0\n",
       "prestito_casa         0\n",
       "prestito_personale    0\n",
       "mese                  0\n",
       "giorno_settimana      0\n",
       "campagne              0\n",
       "giorni_p              0\n",
       "precedente            0\n",
       "outcome_p             0\n",
       "emp.var.rate          0\n",
       "cons.price.idx        0\n",
       "cons.conf.idx         0\n",
       "euribor3m             0\n",
       "nr.employed           0\n",
       "y                     0\n",
       "dtype: int64"
      ]
     },
     "execution_count": 5,
     "metadata": {},
     "output_type": "execute_result"
    }
   ],
   "source": [
    "bank.isnull().sum()"
   ]
  },
  {
   "cell_type": "markdown",
   "metadata": {},
   "source": [
    "In seguito, bisogna controllare il tipo e il formato in cui i dati delle varie colonne sono stati salvati. <br> Troviamo 3 diversi tipi di formato dei dati: \n",
    "- int64: numeri interi;\n",
    "- float64: numeri decimali; \n",
    "- object: stringhe di caratteri. "
   ]
  },
  {
   "cell_type": "code",
   "execution_count": 6,
   "metadata": {},
   "outputs": [
    {
     "data": {
      "text/plain": [
       "eta                     int64\n",
       "professione            object\n",
       "stato_civile           object\n",
       "istruzione             object\n",
       "default                object\n",
       "prestito_casa          object\n",
       "prestito_personale     object\n",
       "mese                   object\n",
       "giorno_settimana       object\n",
       "campagne                int64\n",
       "giorni_p                int64\n",
       "precedente              int64\n",
       "outcome_p              object\n",
       "emp.var.rate          float64\n",
       "cons.price.idx        float64\n",
       "cons.conf.idx         float64\n",
       "euribor3m             float64\n",
       "nr.employed           float64\n",
       "y                      object\n",
       "dtype: object"
      ]
     },
     "execution_count": 6,
     "metadata": {},
     "output_type": "execute_result"
    }
   ],
   "source": [
    "bank.dtypes"
   ]
  },
  {
   "cell_type": "markdown",
   "metadata": {},
   "source": [
    "### Studio della variabile categorica 'Professione'"
   ]
  },
  {
   "cell_type": "markdown",
   "metadata": {},
   "source": [
    "A titolo esemplificativo, scegliamo la variabile 'Professione' per studiarne alcune caratteristiche e metodologie che possiamo utilizzare per effettuare le analisi successive e che potranno essere applicate in maniera analoga anche alle altre variabili dello stesso tipo.\n",
    "<br> Si può notare come la varibile 'Professione' di tipo stringa in realtà assuma solo un numero finito di valori, detti livelli. In questo caso si parla di variabile categorica a 11 livelli. "
   ]
  },
  {
   "cell_type": "code",
   "execution_count": 7,
   "metadata": {},
   "outputs": [
    {
     "name": "stdout",
     "output_type": "stream",
     "text": [
      "Variabile Professione\n",
      "Numero livelli:  11\n",
      "['housemaid' 'services' 'admin.' 'blue-collar' 'technician' 'management'\n",
      " 'unemployed' 'self-employed' 'unknown' 'entrepreneur' 'student']\n"
     ]
    }
   ],
   "source": [
    "print('Variabile Professione')\n",
    "print('Numero livelli: ',len(bank['professione'].unique()))\n",
    "print(bank['professione'].unique())"
   ]
  },
  {
   "cell_type": "markdown",
   "metadata": {},
   "source": [
    "Nel grafico seguente, si può notare come le varie categorie del tipo di impiego siano ditribuite all'interno dell'intero dataset. "
   ]
  },
  {
   "cell_type": "code",
   "execution_count": 8,
   "metadata": {},
   "outputs": [
    {
     "data": {
      "image/png": "[encoded data removed]",
      "text/plain": [
       "<Figure size 1440x576 with 1 Axes>"
      ]
     },
     "metadata": {
      "needs_background": "light"
     },
     "output_type": "display_data"
    }
   ],
   "source": [
    "fig, ax = plt.subplots()\n",
    "fig.set_size_inches(20, 8)\n",
    "sns.countplot(x = 'professione', data = bank)\n",
    "ax.set_xlabel('Professione', fontsize=15)\n",
    "ax.set_ylabel('Count', fontsize=15)\n",
    "ax.set_title('Distribuzione Professione', fontsize=15)\n",
    "ax.tick_params(labelsize=15)\n",
    "sns.despine()"
   ]
  },
  {
   "cell_type": "markdown",
   "metadata": {},
   "source": [
    "### Studio della variabile numerica 'Età' "
   ]
  },
  {
   "cell_type": "markdown",
   "metadata": {},
   "source": [
    "La variabile 'Età', contrariamente a quanto visto in precedenza per la variabile 'Professione', è di tipo numerico. Infatti la variabile può assumere qualsiasi valore reale positivo e possiamo quindi srtudiare la loro distribuzione e relativo box-plot.\n",
    "<br> "
   ]
  },
  {
   "cell_type": "code",
   "execution_count": 9,
   "metadata": {},
   "outputs": [
    {
     "data": {
      "image/png": "[encoded data removed]",
      "text/plain": [
       "<Figure size 1440x576 with 1 Axes>"
      ]
     },
     "metadata": {
      "needs_background": "light"
     },
     "output_type": "display_data"
    }
   ],
   "source": [
    "fig, ax = plt.subplots()\n",
    "fig.set_size_inches(20, 8)\n",
    "sns.countplot(x = 'eta', data = bank)\n",
    "ax.set_xlabel('Età', fontsize=15)\n",
    "ax.set_title('Distribuzione Età', fontsize=15)\n",
    "ax.tick_params(labelsize=15)\n",
    "sns.despine()"
   ]
  },
  {
   "cell_type": "code",
   "execution_count": 10,
   "metadata": {},
   "outputs": [
    {
     "data": {
      "image/png": "[encoded data removed]",
      "text/plain": [
       "<Figure size 360x720 with 1 Axes>"
      ]
     },
     "metadata": {
      "needs_background": "light"
     },
     "output_type": "display_data"
    }
   ],
   "source": [
    "fig, ax = plt.subplots()\n",
    "fig.set_size_inches(5,10)\n",
    "sns.boxplot(y=bank['eta'])\n",
    "ax.set_ylabel('Età', fontsize=15)\n",
    "ax.set_title('Box plot',fontsize=15)\n",
    "plt.show()"
   ]
  }
 ],
 "metadata": {
  "kernelspec": {
   "display_name": "Python 3",
   "language": "python",
   "name": "python3"
  },
  "language_info": {
   "codemirror_mode": {
    "name": "ipython",
    "version": 3
   },
   "file_extension": ".py",
   "mimetype": "text/x-python",
   "name": "python",
   "nbconvert_exporter": "python",
   "pygments_lexer": "ipython3",
   "version": "3.7.4"
  }
 },
 "nbformat": 4,
 "nbformat_minor": 2
}
